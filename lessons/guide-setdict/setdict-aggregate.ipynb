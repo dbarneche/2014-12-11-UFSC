{
 "metadata": {
  "name": "setdict-aggregate"
 },
 "nbformat": 3,
 "nbformat_minor": 0,
 "worksheets": [
  {
   "cells": [
    {
     "cell_type": "heading",
     "level": 1,
     "metadata": {},
     "source": [
      "Sets and Dictionaries in Python"
     ]
    },
    {
     "cell_type": "heading",
     "level": 2,
     "metadata": {},
     "source": [
      "Aggregation"
     ]
    },
    {
     "cell_type": "markdown",
     "metadata": {},
     "source": [
      "**Objectives**\n",
      "\n",
      "* Recognize problems that can be solved by aggregating values.\n",
      "* Use dictionaries to aggregate values.\n",
      "* Explain why actual data values should be used as initializers rather than \"impossible\" values."
     ]
    },
    {
     "cell_type": "markdown",
     "metadata": {},
     "source": [
      "**Lesson**\n",
      "\n",
      "* Use a *dictionary* to keep track of key-value pairs\n",
      "* Its *keys* are like the elements of a set: unique, unordered, and immutable\n",
      "* The *values* associated with the keys can be anything, but can only be looked up via their keys"
     ]
    },
    {
     "cell_type": "markdown",
     "metadata": {},
     "source": [
      "* How early in the day did we see each kind of bird?"
     ]
    },
    {
     "cell_type": "code",
     "collapsed": false,
     "input": [
      "%%file some_birds.txt\n",
      "2010-07-03    05:38    loon\n",
      "2010-07-03    06:02    goose\n",
      "2010-07-03    06:07    loon\n",
      "2010-07-04    05:09    ostrich   # hallucinating?\n",
      "2010-07-04    05:29    loon"
     ],
     "language": "python",
     "metadata": {},
     "outputs": [
      {
       "output_type": "stream",
       "stream": "stdout",
       "text": [
        "Writing some_birds.txt\n"
       ]
      }
     ],
     "prompt_number": 1
    },
    {
     "cell_type": "markdown",
     "metadata": {},
     "source": [
      "* Read data, returning list of tuples"
     ]
    },
    {
     "cell_type": "code",
     "collapsed": false,
     "input": [
      "def read_observations(filename):\n",
      "    '''Read data, returning [(date, time, bird)...].'''\n",
      "\n",
      "    reader = open(filename, 'r')\n",
      "    result = []\n",
      "\n",
      "    for line in reader:\n",
      "        fields = line.split('#')[0].strip().split()\n",
      "        assert len(fields) == 3, 'Bad line \"%s\"' % line\n",
      "        result.append(fields)\n",
      "\n",
      "    return result"
     ],
     "language": "python",
     "metadata": {},
     "outputs": [],
     "prompt_number": 2
    },
    {
     "cell_type": "markdown",
     "metadata": {},
     "source": [
      "* Turn list of tuples into dictionary"
     ]
    },
    {
     "cell_type": "code",
     "collapsed": false,
     "input": [
      "def earliest_observation(data):\n",
      "    '''How early did we see each bird?'''\n",
      "\n",
      "    result = {}\n",
      "    for (date, time, bird) in data:\n",
      "        if bird not in result:\n",
      "            result[bird] = time\n",
      "        else:\n",
      "            result[bird] = min(result[bird], time)\n",
      "\n",
      "    return result"
     ],
     "language": "python",
     "metadata": {},
     "outputs": [],
     "prompt_number": 3
    },
    {
     "cell_type": "markdown",
     "metadata": {},
     "source": [
      "* Test"
     ]
    },
    {
     "cell_type": "code",
     "collapsed": false,
     "input": [
      "entries = read_observations('some_birds.txt')\n",
      "result = earliest_observation(entries)\n",
      "print result"
     ],
     "language": "python",
     "metadata": {},
     "outputs": [
      {
       "output_type": "stream",
       "stream": "stdout",
       "text": [
        "{'loon': '05:29', 'goose': '06:02', 'ostrich': '05:09'}\n"
       ]
      }
     ],
     "prompt_number": 4
    },
    {
     "cell_type": "markdown",
     "metadata": {},
     "source": [
      "* Which birds did we see on a particular day?"
     ]
    },
    {
     "cell_type": "code",
     "collapsed": false,
     "input": [
      "def birds_by_date(data):\n",
      "    '''Which birds were seen on each day?'''\n",
      "\n",
      "    result = {}\n",
      "    for (date, time, bird) in data:\n",
      "        if date not in result:\n",
      "            result[date] = {bird}\n",
      "        else:\n",
      "            result[date].add(bird)\n",
      "\n",
      "    return result\n",
      "\n",
      "print birds_by_date(entries)"
     ],
     "language": "python",
     "metadata": {},
     "outputs": [
      {
       "output_type": "stream",
       "stream": "stdout",
       "text": [
        "{'2010-07-04': set(['loon', 'ostrich']), '2010-07-03': set(['loon', 'goose'])}\n"
       ]
      }
     ],
     "prompt_number": 5
    },
    {
     "cell_type": "markdown",
     "metadata": {},
     "source": [
      "* Which bird (or birds, in case of ties) did we see least frequently?\n",
      "* Try to do it without doing two passes through the data (to find the least value)\n",
      "* And without choosing some arbitrary large initial value for `least`\n",
      "* Solution: initialize `least` to `None` and handle its replacement as a special case"
     ]
    },
    {
     "cell_type": "code",
     "collapsed": false,
     "input": [
      "def least_common_birds(data):\n",
      "    '''Which bird or birds have been seen least frequently?'''\n",
      "    \n",
      "    counts = count_by_bird(data) # need to write this\n",
      "    least = min(counts.values())\n",
      "    result = set()\n",
      "    for bird in counts:\n",
      "        if counts[bird] == least:\n",
      "            result.add(bird)\n",
      "    return result\n",
      "\n",
      "def count_by_bird(data):\n",
      "    '''How many times was each bird seen?'''\n",
      "    result = {}\n",
      "    for (date, time, bird) in data:\n",
      "        if bird not in result:\n",
      "            result[bird] = 0\n",
      "        result[bird] += 1\n",
      "    return result\n",
      "\n",
      "# And test\n",
      "print least_common_birds(entries)"
     ],
     "language": "python",
     "metadata": {},
     "outputs": [
      {
       "output_type": "stream",
       "stream": "stdout",
       "text": [
        "set(['goose', 'ostrich'])\n"
       ]
      }
     ],
     "prompt_number": 8
    },
    {
     "cell_type": "markdown",
     "metadata": {},
     "source": [
      "**Key Points**\n",
      "\n",
      "* Use dictionaries to count things.\n",
      "* Initialize values from actual data instead of trying to guess what values could \"never\" occur."
     ]
    },
    {
     "cell_type": "code",
     "collapsed": false,
     "input": [],
     "language": "python",
     "metadata": {},
     "outputs": []
    }
   ],
   "metadata": {}
  }
 ]
}