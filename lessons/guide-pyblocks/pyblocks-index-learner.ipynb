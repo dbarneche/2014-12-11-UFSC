{
 "metadata": {
  "name": "pyblocks-index-learner"
 },
 "nbformat": 3,
 "nbformat_minor": 0,
 "worksheets": [
  {
   "cells": [
    {
     "cell_type": "heading",
     "level": 1,
     "metadata": {},
     "source": [
      "Basic Programming Using Pythons: Indexing (Learner Version)"
     ]
    },
    {
     "cell_type": "markdown",
     "metadata": {},
     "source": [
      "## Objectives\n",
      "\n",
      "-   Select single elements of a sequence using indexes.\n",
      "-   Use negative indices to select elements relative to the end of a\n",
      "    sequence.\n",
      "-   Select and operate on multiple elements of a sequence using slices.\n",
      "-   Use strides to select non-adjacent sequence elements."
     ]
    },
    {
     "cell_type": "markdown",
     "metadata": {},
     "source": [
      "## Lesson"
     ]
    },
    {
     "cell_type": "markdown",
     "metadata": {},
     "source": [
      "* Many things in Python can be indexed:"
     ]
    },
    {
     "cell_type": "code",
     "collapsed": false,
     "input": [
      "print 'Darwin'[2]"
     ],
     "language": "python",
     "metadata": {},
     "outputs": [
      {
       "output_type": "stream",
       "stream": "stdout",
       "text": [
        "r\n"
       ]
      }
     ],
     "prompt_number": 1
    },
    {
     "cell_type": "markdown",
     "metadata": {},
     "source": [
      "* Works for variables as well:"
     ]
    },
    {
     "cell_type": "code",
     "collapsed": false,
     "input": [
      "scientist = 'Haldane'\n",
      "print scientist[0], scientist[3]"
     ],
     "language": "python",
     "metadata": {},
     "outputs": [
      {
       "output_type": "stream",
       "stream": "stdout",
       "text": [
        "H d\n"
       ]
      }
     ],
     "prompt_number": 2
    },
    {
     "cell_type": "markdown",
     "metadata": {},
     "source": [
      "* Cannot access nonexistent (out of bounds) elements"
     ]
    },
    {
     "cell_type": "code",
     "collapsed": false,
     "input": [
      "print 'Darwin'[999]"
     ],
     "language": "python",
     "metadata": {},
     "outputs": [
      {
       "ename": "IndexError",
       "evalue": "string index out of range",
       "output_type": "pyerr",
       "traceback": [
        "\u001b[0;31m---------------------------------------------------------------------------\u001b[0m\n\u001b[0;31mIndexError\u001b[0m                                Traceback (most recent call last)",
        "\u001b[0;32m<ipython-input-3-92e2e4381c81>\u001b[0m in \u001b[0;36m<module>\u001b[0;34m()\u001b[0m\n\u001b[0;32m----> 1\u001b[0;31m \u001b[0;32mprint\u001b[0m \u001b[0;34m'Darwin'\u001b[0m\u001b[0;34m[\u001b[0m\u001b[0;36m999\u001b[0m\u001b[0;34m]\u001b[0m\u001b[0;34m\u001b[0m\u001b[0m\n\u001b[0m",
        "\u001b[0;31mIndexError\u001b[0m: string index out of range"
       ]
      }
     ],
     "prompt_number": 3
    },
    {
     "cell_type": "markdown",
     "metadata": {},
     "source": [
      "* Use `len` function to find length of string:"
     ]
    },
    {
     "cell_type": "code",
     "collapsed": false,
     "input": [
      "print len('Darwin')"
     ],
     "language": "python",
     "metadata": {},
     "outputs": [
      {
       "output_type": "stream",
       "stream": "stdout",
       "text": [
        "6\n"
       ]
      }
     ],
     "prompt_number": 5
    },
    {
     "cell_type": "markdown",
     "metadata": {},
     "source": [
      "* Negative indices count backward from the end of the collection"
     ]
    },
    {
     "cell_type": "code",
     "collapsed": false,
     "input": [
      "name = 'Darwin'\n",
      "print name[-1], name[-2]"
     ],
     "language": "python",
     "metadata": {},
     "outputs": [
      {
       "output_type": "stream",
       "stream": "stdout",
       "text": [
        "n i\n"
       ]
      }
     ],
     "prompt_number": 6
    },
    {
     "cell_type": "markdown",
     "metadata": {},
     "source": [
      "* Use a slice to select several elements"
     ]
    },
    {
     "cell_type": "code",
     "collapsed": false,
     "input": [
      "species = 'armadillo'\n",
      "print species[3:8]"
     ],
     "language": "python",
     "metadata": {},
     "outputs": [
      {
       "output_type": "stream",
       "stream": "stdout",
       "text": [
        "adill\n"
       ]
      }
     ],
     "prompt_number": 7
    },
    {
     "cell_type": "code",
     "collapsed": false,
     "input": [
      "print species[5:5]"
     ],
     "language": "python",
     "metadata": {},
     "outputs": [
      {
       "output_type": "stream",
       "stream": "stdout",
       "text": [
        "\n"
       ]
      }
     ],
     "prompt_number": 8
    },
    {
     "cell_type": "code",
     "collapsed": false,
     "input": [
      "print species[5:2]"
     ],
     "language": "python",
     "metadata": {},
     "outputs": [
      {
       "output_type": "stream",
       "stream": "stdout",
       "text": [
        "\n"
       ]
      }
     ],
     "prompt_number": 9
    },
    {
     "cell_type": "code",
     "collapsed": false,
     "input": [
      "print species[5:999]"
     ],
     "language": "python",
     "metadata": {},
     "outputs": [
      {
       "output_type": "stream",
       "stream": "stdout",
       "text": [
        "illo\n"
       ]
      }
     ],
     "prompt_number": 10
    },
    {
     "cell_type": "code",
     "collapsed": false,
     "input": [
      "print species[5:-1]"
     ],
     "language": "python",
     "metadata": {},
     "outputs": [
      {
       "output_type": "stream",
       "stream": "stdout",
       "text": [
        "ill\n"
       ]
      }
     ],
     "prompt_number": 11
    },
    {
     "cell_type": "code",
     "collapsed": false,
     "input": [
      "print species[1:-1]"
     ],
     "language": "python",
     "metadata": {},
     "outputs": [
      {
       "output_type": "stream",
       "stream": "stdout",
       "text": [
        "rmadill\n"
       ]
      }
     ],
     "prompt_number": 12
    },
    {
     "cell_type": "code",
     "collapsed": false,
     "input": [
      "print species[:6]"
     ],
     "language": "python",
     "metadata": {},
     "outputs": [
      {
       "output_type": "stream",
       "stream": "stdout",
       "text": [
        "armadi\n"
       ]
      }
     ],
     "prompt_number": 13
    },
    {
     "cell_type": "code",
     "collapsed": false,
     "input": [
      "print species[6:]"
     ],
     "language": "python",
     "metadata": {},
     "outputs": [
      {
       "output_type": "stream",
       "stream": "stdout",
       "text": [
        "llo\n"
       ]
      }
     ],
     "prompt_number": 14
    },
    {
     "cell_type": "code",
     "collapsed": false,
     "input": [
      "print species[:]"
     ],
     "language": "python",
     "metadata": {},
     "outputs": [
      {
       "output_type": "stream",
       "stream": "stdout",
       "text": [
        "armadillo\n"
       ]
      }
     ],
     "prompt_number": 15
    },
    {
     "cell_type": "markdown",
     "metadata": {},
     "source": [
      "* Slices work in two dimensions"
     ]
    },
    {
     "cell_type": "code",
     "collapsed": false,
     "input": [
      "from ipythonblocks import ImageGrid\n",
      "grid = ImageGrid(5, 5)\n",
      "grid[0:3, 0:3] = (255, 0, 128)\n",
      "grid.show()"
     ],
     "language": "python",
     "metadata": {},
     "outputs": [
      {
       "html": [
        "<style type=\"text/css\">table.blockgrid {border: none;} .blockgrid tr {border: none;} .blockgrid td {padding: 0px;} #blocks2a199ef2-b17b-4fb0-8fcf-64f3913e2653 td {border: 1px solid white;}</style><table id=\"blocks2a199ef2-b17b-4fb0-8fcf-64f3913e2653\" class=\"blockgrid\"><tbody><tr><td title=\"Index: [0, 4]&#10;Color: (0, 0, 0)\" style=\"width: 20px; height: 20px;background-color: rgb(0, 0, 0);\"></td><td title=\"Index: [1, 4]&#10;Color: (0, 0, 0)\" style=\"width: 20px; height: 20px;background-color: rgb(0, 0, 0);\"></td><td title=\"Index: [2, 4]&#10;Color: (0, 0, 0)\" style=\"width: 20px; height: 20px;background-color: rgb(0, 0, 0);\"></td><td title=\"Index: [3, 4]&#10;Color: (0, 0, 0)\" style=\"width: 20px; height: 20px;background-color: rgb(0, 0, 0);\"></td><td title=\"Index: [4, 4]&#10;Color: (0, 0, 0)\" style=\"width: 20px; height: 20px;background-color: rgb(0, 0, 0);\"></td></tr><tr><td title=\"Index: [0, 3]&#10;Color: (0, 0, 0)\" style=\"width: 20px; height: 20px;background-color: rgb(0, 0, 0);\"></td><td title=\"Index: [1, 3]&#10;Color: (0, 0, 0)\" style=\"width: 20px; height: 20px;background-color: rgb(0, 0, 0);\"></td><td title=\"Index: [2, 3]&#10;Color: (0, 0, 0)\" style=\"width: 20px; height: 20px;background-color: rgb(0, 0, 0);\"></td><td title=\"Index: [3, 3]&#10;Color: (0, 0, 0)\" style=\"width: 20px; height: 20px;background-color: rgb(0, 0, 0);\"></td><td title=\"Index: [4, 3]&#10;Color: (0, 0, 0)\" style=\"width: 20px; height: 20px;background-color: rgb(0, 0, 0);\"></td></tr><tr><td title=\"Index: [0, 2]&#10;Color: (255, 0, 128)\" style=\"width: 20px; height: 20px;background-color: rgb(255, 0, 128);\"></td><td title=\"Index: [1, 2]&#10;Color: (255, 0, 128)\" style=\"width: 20px; height: 20px;background-color: rgb(255, 0, 128);\"></td><td title=\"Index: [2, 2]&#10;Color: (255, 0, 128)\" style=\"width: 20px; height: 20px;background-color: rgb(255, 0, 128);\"></td><td title=\"Index: [3, 2]&#10;Color: (0, 0, 0)\" style=\"width: 20px; height: 20px;background-color: rgb(0, 0, 0);\"></td><td title=\"Index: [4, 2]&#10;Color: (0, 0, 0)\" style=\"width: 20px; height: 20px;background-color: rgb(0, 0, 0);\"></td></tr><tr><td title=\"Index: [0, 1]&#10;Color: (255, 0, 128)\" style=\"width: 20px; height: 20px;background-color: rgb(255, 0, 128);\"></td><td title=\"Index: [1, 1]&#10;Color: (255, 0, 128)\" style=\"width: 20px; height: 20px;background-color: rgb(255, 0, 128);\"></td><td title=\"Index: [2, 1]&#10;Color: (255, 0, 128)\" style=\"width: 20px; height: 20px;background-color: rgb(255, 0, 128);\"></td><td title=\"Index: [3, 1]&#10;Color: (0, 0, 0)\" style=\"width: 20px; height: 20px;background-color: rgb(0, 0, 0);\"></td><td title=\"Index: [4, 1]&#10;Color: (0, 0, 0)\" style=\"width: 20px; height: 20px;background-color: rgb(0, 0, 0);\"></td></tr><tr><td title=\"Index: [0, 0]&#10;Color: (255, 0, 128)\" style=\"width: 20px; height: 20px;background-color: rgb(255, 0, 128);\"></td><td title=\"Index: [1, 0]&#10;Color: (255, 0, 128)\" style=\"width: 20px; height: 20px;background-color: rgb(255, 0, 128);\"></td><td title=\"Index: [2, 0]&#10;Color: (255, 0, 128)\" style=\"width: 20px; height: 20px;background-color: rgb(255, 0, 128);\"></td><td title=\"Index: [3, 0]&#10;Color: (0, 0, 0)\" style=\"width: 20px; height: 20px;background-color: rgb(0, 0, 0);\"></td><td title=\"Index: [4, 0]&#10;Color: (0, 0, 0)\" style=\"width: 20px; height: 20px;background-color: rgb(0, 0, 0);\"></td></tr></tbody></table>"
       ],
       "output_type": "display_data",
       "text": [
        "<IPython.core.display.HTML at 0x1004458d0>"
       ]
      }
     ],
     "prompt_number": 16
    },
    {
     "cell_type": "code",
     "collapsed": false,
     "input": [
      "grid = ImageGrid(8, 8)\n",
      "grid[0:8:3, :] = (0, 128, 255)\n",
      "grid.show()"
     ],
     "language": "python",
     "metadata": {},
     "outputs": [
      {
       "html": [
        "<style type=\"text/css\">table.blockgrid {border: none;} .blockgrid tr {border: none;} .blockgrid td {padding: 0px;} #blocksed47b4c6-7ab6-4cdf-8dee-1efd6e91a2bb td {border: 1px solid white;}</style><table id=\"blocksed47b4c6-7ab6-4cdf-8dee-1efd6e91a2bb\" class=\"blockgrid\"><tbody><tr><td title=\"Index: [0, 7]&#10;Color: (0, 128, 255)\" style=\"width: 20px; height: 20px;background-color: rgb(0, 128, 255);\"></td><td title=\"Index: [1, 7]&#10;Color: (0, 0, 0)\" style=\"width: 20px; height: 20px;background-color: rgb(0, 0, 0);\"></td><td title=\"Index: [2, 7]&#10;Color: (0, 0, 0)\" style=\"width: 20px; height: 20px;background-color: rgb(0, 0, 0);\"></td><td title=\"Index: [3, 7]&#10;Color: (0, 128, 255)\" style=\"width: 20px; height: 20px;background-color: rgb(0, 128, 255);\"></td><td title=\"Index: [4, 7]&#10;Color: (0, 0, 0)\" style=\"width: 20px; height: 20px;background-color: rgb(0, 0, 0);\"></td><td title=\"Index: [5, 7]&#10;Color: (0, 0, 0)\" style=\"width: 20px; height: 20px;background-color: rgb(0, 0, 0);\"></td><td title=\"Index: [6, 7]&#10;Color: (0, 128, 255)\" style=\"width: 20px; height: 20px;background-color: rgb(0, 128, 255);\"></td><td title=\"Index: [7, 7]&#10;Color: (0, 0, 0)\" style=\"width: 20px; height: 20px;background-color: rgb(0, 0, 0);\"></td></tr><tr><td title=\"Index: [0, 6]&#10;Color: (0, 128, 255)\" style=\"width: 20px; height: 20px;background-color: rgb(0, 128, 255);\"></td><td title=\"Index: [1, 6]&#10;Color: (0, 0, 0)\" style=\"width: 20px; height: 20px;background-color: rgb(0, 0, 0);\"></td><td title=\"Index: [2, 6]&#10;Color: (0, 0, 0)\" style=\"width: 20px; height: 20px;background-color: rgb(0, 0, 0);\"></td><td title=\"Index: [3, 6]&#10;Color: (0, 128, 255)\" style=\"width: 20px; height: 20px;background-color: rgb(0, 128, 255);\"></td><td title=\"Index: [4, 6]&#10;Color: (0, 0, 0)\" style=\"width: 20px; height: 20px;background-color: rgb(0, 0, 0);\"></td><td title=\"Index: [5, 6]&#10;Color: (0, 0, 0)\" style=\"width: 20px; height: 20px;background-color: rgb(0, 0, 0);\"></td><td title=\"Index: [6, 6]&#10;Color: (0, 128, 255)\" style=\"width: 20px; height: 20px;background-color: rgb(0, 128, 255);\"></td><td title=\"Index: [7, 6]&#10;Color: (0, 0, 0)\" style=\"width: 20px; height: 20px;background-color: rgb(0, 0, 0);\"></td></tr><tr><td title=\"Index: [0, 5]&#10;Color: (0, 128, 255)\" style=\"width: 20px; height: 20px;background-color: rgb(0, 128, 255);\"></td><td title=\"Index: [1, 5]&#10;Color: (0, 0, 0)\" style=\"width: 20px; height: 20px;background-color: rgb(0, 0, 0);\"></td><td title=\"Index: [2, 5]&#10;Color: (0, 0, 0)\" style=\"width: 20px; height: 20px;background-color: rgb(0, 0, 0);\"></td><td title=\"Index: [3, 5]&#10;Color: (0, 128, 255)\" style=\"width: 20px; height: 20px;background-color: rgb(0, 128, 255);\"></td><td title=\"Index: [4, 5]&#10;Color: (0, 0, 0)\" style=\"width: 20px; height: 20px;background-color: rgb(0, 0, 0);\"></td><td title=\"Index: [5, 5]&#10;Color: (0, 0, 0)\" style=\"width: 20px; height: 20px;background-color: rgb(0, 0, 0);\"></td><td title=\"Index: [6, 5]&#10;Color: (0, 128, 255)\" style=\"width: 20px; height: 20px;background-color: rgb(0, 128, 255);\"></td><td title=\"Index: [7, 5]&#10;Color: (0, 0, 0)\" style=\"width: 20px; height: 20px;background-color: rgb(0, 0, 0);\"></td></tr><tr><td title=\"Index: [0, 4]&#10;Color: (0, 128, 255)\" style=\"width: 20px; height: 20px;background-color: rgb(0, 128, 255);\"></td><td title=\"Index: [1, 4]&#10;Color: (0, 0, 0)\" style=\"width: 20px; height: 20px;background-color: rgb(0, 0, 0);\"></td><td title=\"Index: [2, 4]&#10;Color: (0, 0, 0)\" style=\"width: 20px; height: 20px;background-color: rgb(0, 0, 0);\"></td><td title=\"Index: [3, 4]&#10;Color: (0, 128, 255)\" style=\"width: 20px; height: 20px;background-color: rgb(0, 128, 255);\"></td><td title=\"Index: [4, 4]&#10;Color: (0, 0, 0)\" style=\"width: 20px; height: 20px;background-color: rgb(0, 0, 0);\"></td><td title=\"Index: [5, 4]&#10;Color: (0, 0, 0)\" style=\"width: 20px; height: 20px;background-color: rgb(0, 0, 0);\"></td><td title=\"Index: [6, 4]&#10;Color: (0, 128, 255)\" style=\"width: 20px; height: 20px;background-color: rgb(0, 128, 255);\"></td><td title=\"Index: [7, 4]&#10;Color: (0, 0, 0)\" style=\"width: 20px; height: 20px;background-color: rgb(0, 0, 0);\"></td></tr><tr><td title=\"Index: [0, 3]&#10;Color: (0, 128, 255)\" style=\"width: 20px; height: 20px;background-color: rgb(0, 128, 255);\"></td><td title=\"Index: [1, 3]&#10;Color: (0, 0, 0)\" style=\"width: 20px; height: 20px;background-color: rgb(0, 0, 0);\"></td><td title=\"Index: [2, 3]&#10;Color: (0, 0, 0)\" style=\"width: 20px; height: 20px;background-color: rgb(0, 0, 0);\"></td><td title=\"Index: [3, 3]&#10;Color: (0, 128, 255)\" style=\"width: 20px; height: 20px;background-color: rgb(0, 128, 255);\"></td><td title=\"Index: [4, 3]&#10;Color: (0, 0, 0)\" style=\"width: 20px; height: 20px;background-color: rgb(0, 0, 0);\"></td><td title=\"Index: [5, 3]&#10;Color: (0, 0, 0)\" style=\"width: 20px; height: 20px;background-color: rgb(0, 0, 0);\"></td><td title=\"Index: [6, 3]&#10;Color: (0, 128, 255)\" style=\"width: 20px; height: 20px;background-color: rgb(0, 128, 255);\"></td><td title=\"Index: [7, 3]&#10;Color: (0, 0, 0)\" style=\"width: 20px; height: 20px;background-color: rgb(0, 0, 0);\"></td></tr><tr><td title=\"Index: [0, 2]&#10;Color: (0, 128, 255)\" style=\"width: 20px; height: 20px;background-color: rgb(0, 128, 255);\"></td><td title=\"Index: [1, 2]&#10;Color: (0, 0, 0)\" style=\"width: 20px; height: 20px;background-color: rgb(0, 0, 0);\"></td><td title=\"Index: [2, 2]&#10;Color: (0, 0, 0)\" style=\"width: 20px; height: 20px;background-color: rgb(0, 0, 0);\"></td><td title=\"Index: [3, 2]&#10;Color: (0, 128, 255)\" style=\"width: 20px; height: 20px;background-color: rgb(0, 128, 255);\"></td><td title=\"Index: [4, 2]&#10;Color: (0, 0, 0)\" style=\"width: 20px; height: 20px;background-color: rgb(0, 0, 0);\"></td><td title=\"Index: [5, 2]&#10;Color: (0, 0, 0)\" style=\"width: 20px; height: 20px;background-color: rgb(0, 0, 0);\"></td><td title=\"Index: [6, 2]&#10;Color: (0, 128, 255)\" style=\"width: 20px; height: 20px;background-color: rgb(0, 128, 255);\"></td><td title=\"Index: [7, 2]&#10;Color: (0, 0, 0)\" style=\"width: 20px; height: 20px;background-color: rgb(0, 0, 0);\"></td></tr><tr><td title=\"Index: [0, 1]&#10;Color: (0, 128, 255)\" style=\"width: 20px; height: 20px;background-color: rgb(0, 128, 255);\"></td><td title=\"Index: [1, 1]&#10;Color: (0, 0, 0)\" style=\"width: 20px; height: 20px;background-color: rgb(0, 0, 0);\"></td><td title=\"Index: [2, 1]&#10;Color: (0, 0, 0)\" style=\"width: 20px; height: 20px;background-color: rgb(0, 0, 0);\"></td><td title=\"Index: [3, 1]&#10;Color: (0, 128, 255)\" style=\"width: 20px; height: 20px;background-color: rgb(0, 128, 255);\"></td><td title=\"Index: [4, 1]&#10;Color: (0, 0, 0)\" style=\"width: 20px; height: 20px;background-color: rgb(0, 0, 0);\"></td><td title=\"Index: [5, 1]&#10;Color: (0, 0, 0)\" style=\"width: 20px; height: 20px;background-color: rgb(0, 0, 0);\"></td><td title=\"Index: [6, 1]&#10;Color: (0, 128, 255)\" style=\"width: 20px; height: 20px;background-color: rgb(0, 128, 255);\"></td><td title=\"Index: [7, 1]&#10;Color: (0, 0, 0)\" style=\"width: 20px; height: 20px;background-color: rgb(0, 0, 0);\"></td></tr><tr><td title=\"Index: [0, 0]&#10;Color: (0, 128, 255)\" style=\"width: 20px; height: 20px;background-color: rgb(0, 128, 255);\"></td><td title=\"Index: [1, 0]&#10;Color: (0, 0, 0)\" style=\"width: 20px; height: 20px;background-color: rgb(0, 0, 0);\"></td><td title=\"Index: [2, 0]&#10;Color: (0, 0, 0)\" style=\"width: 20px; height: 20px;background-color: rgb(0, 0, 0);\"></td><td title=\"Index: [3, 0]&#10;Color: (0, 128, 255)\" style=\"width: 20px; height: 20px;background-color: rgb(0, 128, 255);\"></td><td title=\"Index: [4, 0]&#10;Color: (0, 0, 0)\" style=\"width: 20px; height: 20px;background-color: rgb(0, 0, 0);\"></td><td title=\"Index: [5, 0]&#10;Color: (0, 0, 0)\" style=\"width: 20px; height: 20px;background-color: rgb(0, 0, 0);\"></td><td title=\"Index: [6, 0]&#10;Color: (0, 128, 255)\" style=\"width: 20px; height: 20px;background-color: rgb(0, 128, 255);\"></td><td title=\"Index: [7, 0]&#10;Color: (0, 0, 0)\" style=\"width: 20px; height: 20px;background-color: rgb(0, 0, 0);\"></td></tr></tbody></table>"
       ],
       "output_type": "display_data",
       "text": [
        "<IPython.core.display.HTML at 0x1027c6910>"
       ]
      }
     ],
     "prompt_number": 17
    },
    {
     "cell_type": "markdown",
     "metadata": {},
     "source": [
      "* Use a stride to select regularly-spaced elements"
     ]
    },
    {
     "cell_type": "code",
     "collapsed": false,
     "input": [
      "grid[:, ::2] = (255, 0, 128)\n",
      "grid.show()"
     ],
     "language": "python",
     "metadata": {},
     "outputs": [
      {
       "html": [
        "<style type=\"text/css\">table.blockgrid {border: none;} .blockgrid tr {border: none;} .blockgrid td {padding: 0px;} #blockse3ea2c41-823c-42d2-8c83-aa6e3b9af863 td {border: 1px solid white;}</style><table id=\"blockse3ea2c41-823c-42d2-8c83-aa6e3b9af863\" class=\"blockgrid\"><tbody><tr><td title=\"Index: [0, 7]&#10;Color: (0, 128, 255)\" style=\"width: 20px; height: 20px;background-color: rgb(0, 128, 255);\"></td><td title=\"Index: [1, 7]&#10;Color: (0, 0, 0)\" style=\"width: 20px; height: 20px;background-color: rgb(0, 0, 0);\"></td><td title=\"Index: [2, 7]&#10;Color: (0, 0, 0)\" style=\"width: 20px; height: 20px;background-color: rgb(0, 0, 0);\"></td><td title=\"Index: [3, 7]&#10;Color: (0, 128, 255)\" style=\"width: 20px; height: 20px;background-color: rgb(0, 128, 255);\"></td><td title=\"Index: [4, 7]&#10;Color: (0, 0, 0)\" style=\"width: 20px; height: 20px;background-color: rgb(0, 0, 0);\"></td><td title=\"Index: [5, 7]&#10;Color: (0, 0, 0)\" style=\"width: 20px; height: 20px;background-color: rgb(0, 0, 0);\"></td><td title=\"Index: [6, 7]&#10;Color: (0, 128, 255)\" style=\"width: 20px; height: 20px;background-color: rgb(0, 128, 255);\"></td><td title=\"Index: [7, 7]&#10;Color: (0, 0, 0)\" style=\"width: 20px; height: 20px;background-color: rgb(0, 0, 0);\"></td></tr><tr><td title=\"Index: [0, 6]&#10;Color: (255, 0, 128)\" style=\"width: 20px; height: 20px;background-color: rgb(255, 0, 128);\"></td><td title=\"Index: [1, 6]&#10;Color: (255, 0, 128)\" style=\"width: 20px; height: 20px;background-color: rgb(255, 0, 128);\"></td><td title=\"Index: [2, 6]&#10;Color: (255, 0, 128)\" style=\"width: 20px; height: 20px;background-color: rgb(255, 0, 128);\"></td><td title=\"Index: [3, 6]&#10;Color: (255, 0, 128)\" style=\"width: 20px; height: 20px;background-color: rgb(255, 0, 128);\"></td><td title=\"Index: [4, 6]&#10;Color: (255, 0, 128)\" style=\"width: 20px; height: 20px;background-color: rgb(255, 0, 128);\"></td><td title=\"Index: [5, 6]&#10;Color: (255, 0, 128)\" style=\"width: 20px; height: 20px;background-color: rgb(255, 0, 128);\"></td><td title=\"Index: [6, 6]&#10;Color: (255, 0, 128)\" style=\"width: 20px; height: 20px;background-color: rgb(255, 0, 128);\"></td><td title=\"Index: [7, 6]&#10;Color: (255, 0, 128)\" style=\"width: 20px; height: 20px;background-color: rgb(255, 0, 128);\"></td></tr><tr><td title=\"Index: [0, 5]&#10;Color: (0, 128, 255)\" style=\"width: 20px; height: 20px;background-color: rgb(0, 128, 255);\"></td><td title=\"Index: [1, 5]&#10;Color: (0, 0, 0)\" style=\"width: 20px; height: 20px;background-color: rgb(0, 0, 0);\"></td><td title=\"Index: [2, 5]&#10;Color: (0, 0, 0)\" style=\"width: 20px; height: 20px;background-color: rgb(0, 0, 0);\"></td><td title=\"Index: [3, 5]&#10;Color: (0, 128, 255)\" style=\"width: 20px; height: 20px;background-color: rgb(0, 128, 255);\"></td><td title=\"Index: [4, 5]&#10;Color: (0, 0, 0)\" style=\"width: 20px; height: 20px;background-color: rgb(0, 0, 0);\"></td><td title=\"Index: [5, 5]&#10;Color: (0, 0, 0)\" style=\"width: 20px; height: 20px;background-color: rgb(0, 0, 0);\"></td><td title=\"Index: [6, 5]&#10;Color: (0, 128, 255)\" style=\"width: 20px; height: 20px;background-color: rgb(0, 128, 255);\"></td><td title=\"Index: [7, 5]&#10;Color: (0, 0, 0)\" style=\"width: 20px; height: 20px;background-color: rgb(0, 0, 0);\"></td></tr><tr><td title=\"Index: [0, 4]&#10;Color: (255, 0, 128)\" style=\"width: 20px; height: 20px;background-color: rgb(255, 0, 128);\"></td><td title=\"Index: [1, 4]&#10;Color: (255, 0, 128)\" style=\"width: 20px; height: 20px;background-color: rgb(255, 0, 128);\"></td><td title=\"Index: [2, 4]&#10;Color: (255, 0, 128)\" style=\"width: 20px; height: 20px;background-color: rgb(255, 0, 128);\"></td><td title=\"Index: [3, 4]&#10;Color: (255, 0, 128)\" style=\"width: 20px; height: 20px;background-color: rgb(255, 0, 128);\"></td><td title=\"Index: [4, 4]&#10;Color: (255, 0, 128)\" style=\"width: 20px; height: 20px;background-color: rgb(255, 0, 128);\"></td><td title=\"Index: [5, 4]&#10;Color: (255, 0, 128)\" style=\"width: 20px; height: 20px;background-color: rgb(255, 0, 128);\"></td><td title=\"Index: [6, 4]&#10;Color: (255, 0, 128)\" style=\"width: 20px; height: 20px;background-color: rgb(255, 0, 128);\"></td><td title=\"Index: [7, 4]&#10;Color: (255, 0, 128)\" style=\"width: 20px; height: 20px;background-color: rgb(255, 0, 128);\"></td></tr><tr><td title=\"Index: [0, 3]&#10;Color: (0, 128, 255)\" style=\"width: 20px; height: 20px;background-color: rgb(0, 128, 255);\"></td><td title=\"Index: [1, 3]&#10;Color: (0, 0, 0)\" style=\"width: 20px; height: 20px;background-color: rgb(0, 0, 0);\"></td><td title=\"Index: [2, 3]&#10;Color: (0, 0, 0)\" style=\"width: 20px; height: 20px;background-color: rgb(0, 0, 0);\"></td><td title=\"Index: [3, 3]&#10;Color: (0, 128, 255)\" style=\"width: 20px; height: 20px;background-color: rgb(0, 128, 255);\"></td><td title=\"Index: [4, 3]&#10;Color: (0, 0, 0)\" style=\"width: 20px; height: 20px;background-color: rgb(0, 0, 0);\"></td><td title=\"Index: [5, 3]&#10;Color: (0, 0, 0)\" style=\"width: 20px; height: 20px;background-color: rgb(0, 0, 0);\"></td><td title=\"Index: [6, 3]&#10;Color: (0, 128, 255)\" style=\"width: 20px; height: 20px;background-color: rgb(0, 128, 255);\"></td><td title=\"Index: [7, 3]&#10;Color: (0, 0, 0)\" style=\"width: 20px; height: 20px;background-color: rgb(0, 0, 0);\"></td></tr><tr><td title=\"Index: [0, 2]&#10;Color: (255, 0, 128)\" style=\"width: 20px; height: 20px;background-color: rgb(255, 0, 128);\"></td><td title=\"Index: [1, 2]&#10;Color: (255, 0, 128)\" style=\"width: 20px; height: 20px;background-color: rgb(255, 0, 128);\"></td><td title=\"Index: [2, 2]&#10;Color: (255, 0, 128)\" style=\"width: 20px; height: 20px;background-color: rgb(255, 0, 128);\"></td><td title=\"Index: [3, 2]&#10;Color: (255, 0, 128)\" style=\"width: 20px; height: 20px;background-color: rgb(255, 0, 128);\"></td><td title=\"Index: [4, 2]&#10;Color: (255, 0, 128)\" style=\"width: 20px; height: 20px;background-color: rgb(255, 0, 128);\"></td><td title=\"Index: [5, 2]&#10;Color: (255, 0, 128)\" style=\"width: 20px; height: 20px;background-color: rgb(255, 0, 128);\"></td><td title=\"Index: [6, 2]&#10;Color: (255, 0, 128)\" style=\"width: 20px; height: 20px;background-color: rgb(255, 0, 128);\"></td><td title=\"Index: [7, 2]&#10;Color: (255, 0, 128)\" style=\"width: 20px; height: 20px;background-color: rgb(255, 0, 128);\"></td></tr><tr><td title=\"Index: [0, 1]&#10;Color: (0, 128, 255)\" style=\"width: 20px; height: 20px;background-color: rgb(0, 128, 255);\"></td><td title=\"Index: [1, 1]&#10;Color: (0, 0, 0)\" style=\"width: 20px; height: 20px;background-color: rgb(0, 0, 0);\"></td><td title=\"Index: [2, 1]&#10;Color: (0, 0, 0)\" style=\"width: 20px; height: 20px;background-color: rgb(0, 0, 0);\"></td><td title=\"Index: [3, 1]&#10;Color: (0, 128, 255)\" style=\"width: 20px; height: 20px;background-color: rgb(0, 128, 255);\"></td><td title=\"Index: [4, 1]&#10;Color: (0, 0, 0)\" style=\"width: 20px; height: 20px;background-color: rgb(0, 0, 0);\"></td><td title=\"Index: [5, 1]&#10;Color: (0, 0, 0)\" style=\"width: 20px; height: 20px;background-color: rgb(0, 0, 0);\"></td><td title=\"Index: [6, 1]&#10;Color: (0, 128, 255)\" style=\"width: 20px; height: 20px;background-color: rgb(0, 128, 255);\"></td><td title=\"Index: [7, 1]&#10;Color: (0, 0, 0)\" style=\"width: 20px; height: 20px;background-color: rgb(0, 0, 0);\"></td></tr><tr><td title=\"Index: [0, 0]&#10;Color: (255, 0, 128)\" style=\"width: 20px; height: 20px;background-color: rgb(255, 0, 128);\"></td><td title=\"Index: [1, 0]&#10;Color: (255, 0, 128)\" style=\"width: 20px; height: 20px;background-color: rgb(255, 0, 128);\"></td><td title=\"Index: [2, 0]&#10;Color: (255, 0, 128)\" style=\"width: 20px; height: 20px;background-color: rgb(255, 0, 128);\"></td><td title=\"Index: [3, 0]&#10;Color: (255, 0, 128)\" style=\"width: 20px; height: 20px;background-color: rgb(255, 0, 128);\"></td><td title=\"Index: [4, 0]&#10;Color: (255, 0, 128)\" style=\"width: 20px; height: 20px;background-color: rgb(255, 0, 128);\"></td><td title=\"Index: [5, 0]&#10;Color: (255, 0, 128)\" style=\"width: 20px; height: 20px;background-color: rgb(255, 0, 128);\"></td><td title=\"Index: [6, 0]&#10;Color: (255, 0, 128)\" style=\"width: 20px; height: 20px;background-color: rgb(255, 0, 128);\"></td><td title=\"Index: [7, 0]&#10;Color: (255, 0, 128)\" style=\"width: 20px; height: 20px;background-color: rgb(255, 0, 128);\"></td></tr></tbody></table>"
       ],
       "output_type": "display_data",
       "text": [
        "<IPython.core.display.HTML at 0x102782910>"
       ]
      }
     ],
     "prompt_number": 18
    },
    {
     "cell_type": "markdown",
     "metadata": {},
     "source": [
      "## Key Points\n",
      "\n",
      "-   The index of the first element of a collection is 0; the index of\n",
      "    the last element is `len(list)-1`.\n",
      "-   Negative indices count backward from the end of the collection, so\n",
      "    `thing[-1]` is the last element.\n",
      "-   Trying to access an element with an out-of-bounds index is an error.\n",
      "-   Use a slice to select multiple elements.\n",
      "-   Provide a stride to select regularly-spaced elements."
     ]
    }
   ],
   "metadata": {}
  }
 ]
}