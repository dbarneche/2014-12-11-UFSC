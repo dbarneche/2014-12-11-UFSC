{
 "metadata": {
  "name": "pyblocks-index-instructor"
 },
 "nbformat": 3,
 "nbformat_minor": 0,
 "worksheets": [
  {
   "cells": [
    {
     "cell_type": "heading",
     "level": 1,
     "metadata": {},
     "source": [
      "Basic Programming Using Pythons: Indexing (Instructor Version)"
     ]
    },
    {
     "cell_type": "markdown",
     "metadata": {},
     "source": [
      "## Objectives\n",
      "\n",
      "-   Select single elements of a sequence using indexes.\n",
      "-   Use negative indices to select elements relative to the end of a\n",
      "    sequence.\n",
      "-   Select and operate on multiple elements of a sequence using slices.\n",
      "-   Use strides to select non-adjacent sequence elements."
     ]
    },
    {
     "cell_type": "markdown",
     "metadata": {},
     "source": [
      "## Lesson\n",
      "\n",
      "A `for` loop is one way to tell the computer to do something many times.\n",
      "Another is to tell it where to do things, and let it figure out how best\n",
      "to take action.\n",
      "To see how this works, let's first revisit indexing. We have seen that\n",
      "`grid[0, 1]` refers to a single block in a grid. Many other things in\n",
      "Python can be indexed as well, like strings:"
     ]
    },
    {
     "cell_type": "code",
     "collapsed": false,
     "input": [
      "print 'Darwin'[2]"
     ],
     "language": "python",
     "metadata": {},
     "outputs": [
      {
       "output_type": "stream",
       "stream": "stdout",
       "text": [
        "r\n"
       ]
      }
     ],
     "prompt_number": 1
    },
    {
     "cell_type": "markdown",
     "metadata": {},
     "source": [
      "This also works if the string is stored in a variable:"
     ]
    },
    {
     "cell_type": "code",
     "collapsed": false,
     "input": [
      "scientist = 'Haldane'\n",
      "print scientist[0], scientist[3]"
     ],
     "language": "python",
     "metadata": {},
     "outputs": [
      {
       "output_type": "stream",
       "stream": "stdout",
       "text": [
        "H d\n"
       ]
      }
     ],
     "prompt_number": 3
    },
    {
     "cell_type": "markdown",
     "metadata": {},
     "source": [
      "but this *doesn't* work:"
     ]
    },
    {
     "cell_type": "code",
     "collapsed": false,
     "input": [
      "print 'Darwin'[999]"
     ],
     "language": "python",
     "metadata": {},
     "outputs": [
      {
       "ename": "IndexError",
       "evalue": "string index out of range",
       "output_type": "pyerr",
       "traceback": [
        "\u001b[0;31m---------------------------------------------------------------------------\u001b[0m\n\u001b[0;31mIndexError\u001b[0m                                Traceback (most recent call last)",
        "\u001b[0;32m<ipython-input-4-92e2e4381c81>\u001b[0m in \u001b[0;36m<module>\u001b[0;34m()\u001b[0m\n\u001b[0;32m----> 1\u001b[0;31m \u001b[0;32mprint\u001b[0m \u001b[0;34m'Darwin'\u001b[0m\u001b[0;34m[\u001b[0m\u001b[0;36m999\u001b[0m\u001b[0;34m]\u001b[0m\u001b[0;34m\u001b[0m\u001b[0m\n\u001b[0m",
        "\u001b[0;31mIndexError\u001b[0m: string index out of range"
       ]
      }
     ],
     "prompt_number": 4
    },
    {
     "cell_type": "markdown",
     "metadata": {},
     "source": [
      "The string `'Darwin'` only has six characters, so `'Darwin'[999]`\n",
      "doesn't exist. Rather than giving us some default value such as a blank\n",
      "or the empty string, Python considers this an error. Again, if we haven't\n",
      "defined a value, our program shouldn't guess what we might have wanted.\n",
      "If we need to know what indices we can safely use,\n",
      "we can ask the `len` function:"
     ]
    },
    {
     "cell_type": "code",
     "collapsed": false,
     "input": [
      "print len('Darwin')"
     ],
     "language": "python",
     "metadata": {},
     "outputs": [
      {
       "output_type": "stream",
       "stream": "stdout",
       "text": [
        "6\n"
       ]
      }
     ],
     "prompt_number": 6
    },
    {
     "cell_type": "markdown",
     "metadata": {},
     "source": [
      "Given that 999 doesn't work as an index for a string with only six characters,\n",
      "you might be surprised to learn that -1 does:"
     ]
    },
    {
     "cell_type": "code",
     "collapsed": false,
     "input": [
      "name = 'Darwin'\n",
      "print name[-1], name[-2]"
     ],
     "language": "python",
     "metadata": {},
     "outputs": [
      {
       "output_type": "stream",
       "stream": "stdout",
       "text": [
        "n i\n"
       ]
      }
     ],
     "prompt_number": 26
    },
    {
     "cell_type": "markdown",
     "metadata": {},
     "source": [
      "As the diagram below shows, these count backwards from the end of the string:"
     ]
    },
    {
     "cell_type": "markdown",
     "metadata": {},
     "source": [
      "<img src=\"files/negative_indexing.png\" alt=\"Negative Indexing\" />"
     ]
    },
    {
     "cell_type": "markdown",
     "metadata": {},
     "source": [
      "Negative indices aren't actually necessary: if we want to get\n",
      "the last element of the string referred to by the variable `thing`, we\n",
      "can always write:"
     ]
    },
    {
     "cell_type": "markdown",
     "metadata": {},
     "source": [
      "    thing[len(thing) - 1]"
     ]
    },
    {
     "cell_type": "markdown",
     "metadata": {},
     "source": [
      "However, this is harder to both type and read than just using -1."
     ]
    },
    {
     "cell_type": "markdown",
     "metadata": {},
     "source": [
      "All of the indices we have seen so far have specified single items, such\n",
      "as a single cell in an image grid or a single character, but that\n",
      "doesn't have to be the case. We can instead specify ranges of values,\n",
      "also called a [slice](glossary.html#slice), using `[lower:upper]`\n",
      "instead of just a single index.\n",
      "Here are some examples:"
     ]
    },
    {
     "cell_type": "code",
     "collapsed": false,
     "input": [
      "# Slice includes the element at the lower index, but not the element at the upper index\n",
      "species = 'armadillo'\n",
      "print species[3:8]"
     ],
     "language": "python",
     "metadata": {},
     "outputs": [
      {
       "output_type": "stream",
       "stream": "stdout",
       "text": [
        "adill\n"
       ]
      }
     ],
     "prompt_number": 27
    },
    {
     "cell_type": "code",
     "collapsed": false,
     "input": [
      "# Slices can be empty.\n",
      "print species[5:5]"
     ],
     "language": "python",
     "metadata": {},
     "outputs": [
      {
       "output_type": "stream",
       "stream": "stdout",
       "text": [
        "\n"
       ]
      }
     ],
     "prompt_number": 12
    },
    {
     "cell_type": "code",
     "collapsed": false,
     "input": [
      "print species[5:2]"
     ],
     "language": "python",
     "metadata": {},
     "outputs": [
      {
       "output_type": "stream",
       "stream": "stdout",
       "text": [
        "\n"
       ]
      }
     ],
     "prompt_number": 13
    },
    {
     "cell_type": "code",
     "collapsed": false,
     "input": [
      "# If the upper bound is out of range, Python truncates it rather than reporting an error.\n",
      "print species[5:999]"
     ],
     "language": "python",
     "metadata": {},
     "outputs": [
      {
       "output_type": "stream",
       "stream": "stdout",
       "text": [
        "illo\n"
       ]
      }
     ],
     "prompt_number": 14
    },
    {
     "cell_type": "code",
     "collapsed": false,
     "input": [
      "# Negative indices still count backward from the end.\n",
      "print species[5:-1]"
     ],
     "language": "python",
     "metadata": {},
     "outputs": [
      {
       "output_type": "stream",
       "stream": "stdout",
       "text": [
        "ill\n"
       ]
      }
     ],
     "prompt_number": 15
    },
    {
     "cell_type": "code",
     "collapsed": false,
     "input": [
      "# Which makes it easy to select the interior (i.e., everything except the ends).\n",
      "print species[1:-1]"
     ],
     "language": "python",
     "metadata": {},
     "outputs": [
      {
       "output_type": "stream",
       "stream": "stdout",
       "text": [
        "rmadill\n"
       ]
      }
     ],
     "prompt_number": 17
    },
    {
     "cell_type": "code",
     "collapsed": false,
     "input": [
      "# If we omit the lower bound, it defaults to the start.\n",
      "print species[:6]"
     ],
     "language": "python",
     "metadata": {},
     "outputs": [
      {
       "output_type": "stream",
       "stream": "stdout",
       "text": [
        "armadi\n"
       ]
      }
     ],
     "prompt_number": 18
    },
    {
     "cell_type": "code",
     "collapsed": false,
     "input": [
      "# If we omit the upper bound, it defaults to the end.\n",
      "print species[6:]"
     ],
     "language": "python",
     "metadata": {},
     "outputs": [
      {
       "output_type": "stream",
       "stream": "stdout",
       "text": [
        "llo\n"
       ]
      }
     ],
     "prompt_number": 19
    },
    {
     "cell_type": "code",
     "collapsed": false,
     "input": [
      "# So if we omit both, we get a copy of the original.\n",
      "print species[:]"
     ],
     "language": "python",
     "metadata": {},
     "outputs": [
      {
       "output_type": "stream",
       "stream": "stdout",
       "text": [
        "armadillo\n"
       ]
      }
     ],
     "prompt_number": 20
    },
    {
     "cell_type": "markdown",
     "metadata": {},
     "source": [
      "This will all be familiar if you have used a language like MATLAB.\n",
      "The most important difference is that the range of the slice is half-open:\n",
      "the element at the lower end is included,\n",
      "but the element at the upper end is not.\n",
      "This can be confusing,\n",
      "but it is meant to be consistent with other Python usage.\n",
      "In particular,\n",
      "it means that:\n",
      "\n",
      "    thing[0:len(thing)]\n",
      "\n",
      "does the right thing.\n",
      "\n",
      "Slices work in two dimensions as well as one. To see this, let's create\n",
      "a grid and then change the color of the lower left corner:"
     ]
    },
    {
     "cell_type": "code",
     "collapsed": false,
     "input": [
      "from ipythonblocks import ImageGrid\n",
      "grid = ImageGrid(5, 5)\n",
      "grid[0:3, 0:3] = (255, 0, 128)\n",
      "grid.show()"
     ],
     "language": "python",
     "metadata": {},
     "outputs": [
      {
       "html": [
        "<style type=\"text/css\">table.blockgrid {border: none;} .blockgrid tr {border: none;} .blockgrid td {padding: 0px;} #blocks34f3b83f-3eb3-4c46-b62c-ac6c88eca8a7 td {border: 1px solid white;}</style><table id=\"blocks34f3b83f-3eb3-4c46-b62c-ac6c88eca8a7\" class=\"blockgrid\"><tbody><tr><td title=\"Index: [0, 4]&#10;Color: (0, 0, 0)\" style=\"width: 20px; height: 20px;background-color: rgb(0, 0, 0);\"></td><td title=\"Index: [1, 4]&#10;Color: (0, 0, 0)\" style=\"width: 20px; height: 20px;background-color: rgb(0, 0, 0);\"></td><td title=\"Index: [2, 4]&#10;Color: (0, 0, 0)\" style=\"width: 20px; height: 20px;background-color: rgb(0, 0, 0);\"></td><td title=\"Index: [3, 4]&#10;Color: (0, 0, 0)\" style=\"width: 20px; height: 20px;background-color: rgb(0, 0, 0);\"></td><td title=\"Index: [4, 4]&#10;Color: (0, 0, 0)\" style=\"width: 20px; height: 20px;background-color: rgb(0, 0, 0);\"></td></tr><tr><td title=\"Index: [0, 3]&#10;Color: (0, 0, 0)\" style=\"width: 20px; height: 20px;background-color: rgb(0, 0, 0);\"></td><td title=\"Index: [1, 3]&#10;Color: (0, 0, 0)\" style=\"width: 20px; height: 20px;background-color: rgb(0, 0, 0);\"></td><td title=\"Index: [2, 3]&#10;Color: (0, 0, 0)\" style=\"width: 20px; height: 20px;background-color: rgb(0, 0, 0);\"></td><td title=\"Index: [3, 3]&#10;Color: (0, 0, 0)\" style=\"width: 20px; height: 20px;background-color: rgb(0, 0, 0);\"></td><td title=\"Index: [4, 3]&#10;Color: (0, 0, 0)\" style=\"width: 20px; height: 20px;background-color: rgb(0, 0, 0);\"></td></tr><tr><td title=\"Index: [0, 2]&#10;Color: (255, 0, 128)\" style=\"width: 20px; height: 20px;background-color: rgb(255, 0, 128);\"></td><td title=\"Index: [1, 2]&#10;Color: (255, 0, 128)\" style=\"width: 20px; height: 20px;background-color: rgb(255, 0, 128);\"></td><td title=\"Index: [2, 2]&#10;Color: (255, 0, 128)\" style=\"width: 20px; height: 20px;background-color: rgb(255, 0, 128);\"></td><td title=\"Index: [3, 2]&#10;Color: (0, 0, 0)\" style=\"width: 20px; height: 20px;background-color: rgb(0, 0, 0);\"></td><td title=\"Index: [4, 2]&#10;Color: (0, 0, 0)\" style=\"width: 20px; height: 20px;background-color: rgb(0, 0, 0);\"></td></tr><tr><td title=\"Index: [0, 1]&#10;Color: (255, 0, 128)\" style=\"width: 20px; height: 20px;background-color: rgb(255, 0, 128);\"></td><td title=\"Index: [1, 1]&#10;Color: (255, 0, 128)\" style=\"width: 20px; height: 20px;background-color: rgb(255, 0, 128);\"></td><td title=\"Index: [2, 1]&#10;Color: (255, 0, 128)\" style=\"width: 20px; height: 20px;background-color: rgb(255, 0, 128);\"></td><td title=\"Index: [3, 1]&#10;Color: (0, 0, 0)\" style=\"width: 20px; height: 20px;background-color: rgb(0, 0, 0);\"></td><td title=\"Index: [4, 1]&#10;Color: (0, 0, 0)\" style=\"width: 20px; height: 20px;background-color: rgb(0, 0, 0);\"></td></tr><tr><td title=\"Index: [0, 0]&#10;Color: (255, 0, 128)\" style=\"width: 20px; height: 20px;background-color: rgb(255, 0, 128);\"></td><td title=\"Index: [1, 0]&#10;Color: (255, 0, 128)\" style=\"width: 20px; height: 20px;background-color: rgb(255, 0, 128);\"></td><td title=\"Index: [2, 0]&#10;Color: (255, 0, 128)\" style=\"width: 20px; height: 20px;background-color: rgb(255, 0, 128);\"></td><td title=\"Index: [3, 0]&#10;Color: (0, 0, 0)\" style=\"width: 20px; height: 20px;background-color: rgb(0, 0, 0);\"></td><td title=\"Index: [4, 0]&#10;Color: (0, 0, 0)\" style=\"width: 20px; height: 20px;background-color: rgb(0, 0, 0);\"></td></tr></tbody></table>"
       ],
       "output_type": "display_data",
       "text": [
        "<IPython.core.display.HTML at 0x102781c10>"
       ]
      }
     ],
     "prompt_number": 22
    },
    {
     "cell_type": "markdown",
     "metadata": {},
     "source": [
      "As you might expect, the slices in each dimension are combined to\n",
      "select a range of elements. Assigning to that range then changes the\n",
      "color of all those elements at once."
     ]
    },
    {
     "cell_type": "markdown",
     "metadata": {},
     "source": [
      "By default, a slice selects every value between its bounds. We can\n",
      "optionally provide a [stride](glossary.html#stride) to select\n",
      "regularly-spaced elements instead:"
     ]
    },
    {
     "cell_type": "code",
     "collapsed": false,
     "input": [
      "grid = ImageGrid(8, 8)\n",
      "grid[0:8:3, :] = (0, 128, 255)\n",
      "grid.show()"
     ],
     "language": "python",
     "metadata": {},
     "outputs": [
      {
       "html": [
        "<style type=\"text/css\">table.blockgrid {border: none;} .blockgrid tr {border: none;} .blockgrid td {padding: 0px;} #blocks2f135dfc-ee9e-47a7-a53e-4779f6eb1a6c td {border: 1px solid white;}</style><table id=\"blocks2f135dfc-ee9e-47a7-a53e-4779f6eb1a6c\" class=\"blockgrid\"><tbody><tr><td title=\"Index: [0, 7]&#10;Color: (0, 128, 255)\" style=\"width: 20px; height: 20px;background-color: rgb(0, 128, 255);\"></td><td title=\"Index: [1, 7]&#10;Color: (0, 0, 0)\" style=\"width: 20px; height: 20px;background-color: rgb(0, 0, 0);\"></td><td title=\"Index: [2, 7]&#10;Color: (0, 0, 0)\" style=\"width: 20px; height: 20px;background-color: rgb(0, 0, 0);\"></td><td title=\"Index: [3, 7]&#10;Color: (0, 128, 255)\" style=\"width: 20px; height: 20px;background-color: rgb(0, 128, 255);\"></td><td title=\"Index: [4, 7]&#10;Color: (0, 0, 0)\" style=\"width: 20px; height: 20px;background-color: rgb(0, 0, 0);\"></td><td title=\"Index: [5, 7]&#10;Color: (0, 0, 0)\" style=\"width: 20px; height: 20px;background-color: rgb(0, 0, 0);\"></td><td title=\"Index: [6, 7]&#10;Color: (0, 128, 255)\" style=\"width: 20px; height: 20px;background-color: rgb(0, 128, 255);\"></td><td title=\"Index: [7, 7]&#10;Color: (0, 0, 0)\" style=\"width: 20px; height: 20px;background-color: rgb(0, 0, 0);\"></td></tr><tr><td title=\"Index: [0, 6]&#10;Color: (0, 128, 255)\" style=\"width: 20px; height: 20px;background-color: rgb(0, 128, 255);\"></td><td title=\"Index: [1, 6]&#10;Color: (0, 0, 0)\" style=\"width: 20px; height: 20px;background-color: rgb(0, 0, 0);\"></td><td title=\"Index: [2, 6]&#10;Color: (0, 0, 0)\" style=\"width: 20px; height: 20px;background-color: rgb(0, 0, 0);\"></td><td title=\"Index: [3, 6]&#10;Color: (0, 128, 255)\" style=\"width: 20px; height: 20px;background-color: rgb(0, 128, 255);\"></td><td title=\"Index: [4, 6]&#10;Color: (0, 0, 0)\" style=\"width: 20px; height: 20px;background-color: rgb(0, 0, 0);\"></td><td title=\"Index: [5, 6]&#10;Color: (0, 0, 0)\" style=\"width: 20px; height: 20px;background-color: rgb(0, 0, 0);\"></td><td title=\"Index: [6, 6]&#10;Color: (0, 128, 255)\" style=\"width: 20px; height: 20px;background-color: rgb(0, 128, 255);\"></td><td title=\"Index: [7, 6]&#10;Color: (0, 0, 0)\" style=\"width: 20px; height: 20px;background-color: rgb(0, 0, 0);\"></td></tr><tr><td title=\"Index: [0, 5]&#10;Color: (0, 128, 255)\" style=\"width: 20px; height: 20px;background-color: rgb(0, 128, 255);\"></td><td title=\"Index: [1, 5]&#10;Color: (0, 0, 0)\" style=\"width: 20px; height: 20px;background-color: rgb(0, 0, 0);\"></td><td title=\"Index: [2, 5]&#10;Color: (0, 0, 0)\" style=\"width: 20px; height: 20px;background-color: rgb(0, 0, 0);\"></td><td title=\"Index: [3, 5]&#10;Color: (0, 128, 255)\" style=\"width: 20px; height: 20px;background-color: rgb(0, 128, 255);\"></td><td title=\"Index: [4, 5]&#10;Color: (0, 0, 0)\" style=\"width: 20px; height: 20px;background-color: rgb(0, 0, 0);\"></td><td title=\"Index: [5, 5]&#10;Color: (0, 0, 0)\" style=\"width: 20px; height: 20px;background-color: rgb(0, 0, 0);\"></td><td title=\"Index: [6, 5]&#10;Color: (0, 128, 255)\" style=\"width: 20px; height: 20px;background-color: rgb(0, 128, 255);\"></td><td title=\"Index: [7, 5]&#10;Color: (0, 0, 0)\" style=\"width: 20px; height: 20px;background-color: rgb(0, 0, 0);\"></td></tr><tr><td title=\"Index: [0, 4]&#10;Color: (0, 128, 255)\" style=\"width: 20px; height: 20px;background-color: rgb(0, 128, 255);\"></td><td title=\"Index: [1, 4]&#10;Color: (0, 0, 0)\" style=\"width: 20px; height: 20px;background-color: rgb(0, 0, 0);\"></td><td title=\"Index: [2, 4]&#10;Color: (0, 0, 0)\" style=\"width: 20px; height: 20px;background-color: rgb(0, 0, 0);\"></td><td title=\"Index: [3, 4]&#10;Color: (0, 128, 255)\" style=\"width: 20px; height: 20px;background-color: rgb(0, 128, 255);\"></td><td title=\"Index: [4, 4]&#10;Color: (0, 0, 0)\" style=\"width: 20px; height: 20px;background-color: rgb(0, 0, 0);\"></td><td title=\"Index: [5, 4]&#10;Color: (0, 0, 0)\" style=\"width: 20px; height: 20px;background-color: rgb(0, 0, 0);\"></td><td title=\"Index: [6, 4]&#10;Color: (0, 128, 255)\" style=\"width: 20px; height: 20px;background-color: rgb(0, 128, 255);\"></td><td title=\"Index: [7, 4]&#10;Color: (0, 0, 0)\" style=\"width: 20px; height: 20px;background-color: rgb(0, 0, 0);\"></td></tr><tr><td title=\"Index: [0, 3]&#10;Color: (0, 128, 255)\" style=\"width: 20px; height: 20px;background-color: rgb(0, 128, 255);\"></td><td title=\"Index: [1, 3]&#10;Color: (0, 0, 0)\" style=\"width: 20px; height: 20px;background-color: rgb(0, 0, 0);\"></td><td title=\"Index: [2, 3]&#10;Color: (0, 0, 0)\" style=\"width: 20px; height: 20px;background-color: rgb(0, 0, 0);\"></td><td title=\"Index: [3, 3]&#10;Color: (0, 128, 255)\" style=\"width: 20px; height: 20px;background-color: rgb(0, 128, 255);\"></td><td title=\"Index: [4, 3]&#10;Color: (0, 0, 0)\" style=\"width: 20px; height: 20px;background-color: rgb(0, 0, 0);\"></td><td title=\"Index: [5, 3]&#10;Color: (0, 0, 0)\" style=\"width: 20px; height: 20px;background-color: rgb(0, 0, 0);\"></td><td title=\"Index: [6, 3]&#10;Color: (0, 128, 255)\" style=\"width: 20px; height: 20px;background-color: rgb(0, 128, 255);\"></td><td title=\"Index: [7, 3]&#10;Color: (0, 0, 0)\" style=\"width: 20px; height: 20px;background-color: rgb(0, 0, 0);\"></td></tr><tr><td title=\"Index: [0, 2]&#10;Color: (0, 128, 255)\" style=\"width: 20px; height: 20px;background-color: rgb(0, 128, 255);\"></td><td title=\"Index: [1, 2]&#10;Color: (0, 0, 0)\" style=\"width: 20px; height: 20px;background-color: rgb(0, 0, 0);\"></td><td title=\"Index: [2, 2]&#10;Color: (0, 0, 0)\" style=\"width: 20px; height: 20px;background-color: rgb(0, 0, 0);\"></td><td title=\"Index: [3, 2]&#10;Color: (0, 128, 255)\" style=\"width: 20px; height: 20px;background-color: rgb(0, 128, 255);\"></td><td title=\"Index: [4, 2]&#10;Color: (0, 0, 0)\" style=\"width: 20px; height: 20px;background-color: rgb(0, 0, 0);\"></td><td title=\"Index: [5, 2]&#10;Color: (0, 0, 0)\" style=\"width: 20px; height: 20px;background-color: rgb(0, 0, 0);\"></td><td title=\"Index: [6, 2]&#10;Color: (0, 128, 255)\" style=\"width: 20px; height: 20px;background-color: rgb(0, 128, 255);\"></td><td title=\"Index: [7, 2]&#10;Color: (0, 0, 0)\" style=\"width: 20px; height: 20px;background-color: rgb(0, 0, 0);\"></td></tr><tr><td title=\"Index: [0, 1]&#10;Color: (0, 128, 255)\" style=\"width: 20px; height: 20px;background-color: rgb(0, 128, 255);\"></td><td title=\"Index: [1, 1]&#10;Color: (0, 0, 0)\" style=\"width: 20px; height: 20px;background-color: rgb(0, 0, 0);\"></td><td title=\"Index: [2, 1]&#10;Color: (0, 0, 0)\" style=\"width: 20px; height: 20px;background-color: rgb(0, 0, 0);\"></td><td title=\"Index: [3, 1]&#10;Color: (0, 128, 255)\" style=\"width: 20px; height: 20px;background-color: rgb(0, 128, 255);\"></td><td title=\"Index: [4, 1]&#10;Color: (0, 0, 0)\" style=\"width: 20px; height: 20px;background-color: rgb(0, 0, 0);\"></td><td title=\"Index: [5, 1]&#10;Color: (0, 0, 0)\" style=\"width: 20px; height: 20px;background-color: rgb(0, 0, 0);\"></td><td title=\"Index: [6, 1]&#10;Color: (0, 128, 255)\" style=\"width: 20px; height: 20px;background-color: rgb(0, 128, 255);\"></td><td title=\"Index: [7, 1]&#10;Color: (0, 0, 0)\" style=\"width: 20px; height: 20px;background-color: rgb(0, 0, 0);\"></td></tr><tr><td title=\"Index: [0, 0]&#10;Color: (0, 128, 255)\" style=\"width: 20px; height: 20px;background-color: rgb(0, 128, 255);\"></td><td title=\"Index: [1, 0]&#10;Color: (0, 0, 0)\" style=\"width: 20px; height: 20px;background-color: rgb(0, 0, 0);\"></td><td title=\"Index: [2, 0]&#10;Color: (0, 0, 0)\" style=\"width: 20px; height: 20px;background-color: rgb(0, 0, 0);\"></td><td title=\"Index: [3, 0]&#10;Color: (0, 128, 255)\" style=\"width: 20px; height: 20px;background-color: rgb(0, 128, 255);\"></td><td title=\"Index: [4, 0]&#10;Color: (0, 0, 0)\" style=\"width: 20px; height: 20px;background-color: rgb(0, 0, 0);\"></td><td title=\"Index: [5, 0]&#10;Color: (0, 0, 0)\" style=\"width: 20px; height: 20px;background-color: rgb(0, 0, 0);\"></td><td title=\"Index: [6, 0]&#10;Color: (0, 128, 255)\" style=\"width: 20px; height: 20px;background-color: rgb(0, 128, 255);\"></td><td title=\"Index: [7, 0]&#10;Color: (0, 0, 0)\" style=\"width: 20px; height: 20px;background-color: rgb(0, 0, 0);\"></td></tr></tbody></table>"
       ],
       "output_type": "display_data",
       "text": [
        "<IPython.core.display.HTML at 0x1027c89d0>"
       ]
      }
     ],
     "prompt_number": 24
    },
    {
     "cell_type": "markdown",
     "metadata": {},
     "source": [
      "We can also provide the stride on its own,\n",
      "in which case the lower and upper bounds of that index\n",
      "take on their default values:"
     ]
    },
    {
     "cell_type": "code",
     "collapsed": false,
     "input": [
      "grid[:, ::2] = (255, 0, 128)\n",
      "grid.show()"
     ],
     "language": "python",
     "metadata": {},
     "outputs": [
      {
       "html": [
        "<style type=\"text/css\">table.blockgrid {border: none;} .blockgrid tr {border: none;} .blockgrid td {padding: 0px;} #blocks957231b1-c0a9-4184-a316-535a9668606a td {border: 1px solid white;}</style><table id=\"blocks957231b1-c0a9-4184-a316-535a9668606a\" class=\"blockgrid\"><tbody><tr><td title=\"Index: [0, 7]&#10;Color: (0, 128, 255)\" style=\"width: 20px; height: 20px;background-color: rgb(0, 128, 255);\"></td><td title=\"Index: [1, 7]&#10;Color: (0, 0, 0)\" style=\"width: 20px; height: 20px;background-color: rgb(0, 0, 0);\"></td><td title=\"Index: [2, 7]&#10;Color: (0, 0, 0)\" style=\"width: 20px; height: 20px;background-color: rgb(0, 0, 0);\"></td><td title=\"Index: [3, 7]&#10;Color: (0, 128, 255)\" style=\"width: 20px; height: 20px;background-color: rgb(0, 128, 255);\"></td><td title=\"Index: [4, 7]&#10;Color: (0, 0, 0)\" style=\"width: 20px; height: 20px;background-color: rgb(0, 0, 0);\"></td><td title=\"Index: [5, 7]&#10;Color: (0, 0, 0)\" style=\"width: 20px; height: 20px;background-color: rgb(0, 0, 0);\"></td><td title=\"Index: [6, 7]&#10;Color: (0, 128, 255)\" style=\"width: 20px; height: 20px;background-color: rgb(0, 128, 255);\"></td><td title=\"Index: [7, 7]&#10;Color: (0, 0, 0)\" style=\"width: 20px; height: 20px;background-color: rgb(0, 0, 0);\"></td></tr><tr><td title=\"Index: [0, 6]&#10;Color: (255, 0, 128)\" style=\"width: 20px; height: 20px;background-color: rgb(255, 0, 128);\"></td><td title=\"Index: [1, 6]&#10;Color: (255, 0, 128)\" style=\"width: 20px; height: 20px;background-color: rgb(255, 0, 128);\"></td><td title=\"Index: [2, 6]&#10;Color: (255, 0, 128)\" style=\"width: 20px; height: 20px;background-color: rgb(255, 0, 128);\"></td><td title=\"Index: [3, 6]&#10;Color: (255, 0, 128)\" style=\"width: 20px; height: 20px;background-color: rgb(255, 0, 128);\"></td><td title=\"Index: [4, 6]&#10;Color: (255, 0, 128)\" style=\"width: 20px; height: 20px;background-color: rgb(255, 0, 128);\"></td><td title=\"Index: [5, 6]&#10;Color: (255, 0, 128)\" style=\"width: 20px; height: 20px;background-color: rgb(255, 0, 128);\"></td><td title=\"Index: [6, 6]&#10;Color: (255, 0, 128)\" style=\"width: 20px; height: 20px;background-color: rgb(255, 0, 128);\"></td><td title=\"Index: [7, 6]&#10;Color: (255, 0, 128)\" style=\"width: 20px; height: 20px;background-color: rgb(255, 0, 128);\"></td></tr><tr><td title=\"Index: [0, 5]&#10;Color: (0, 128, 255)\" style=\"width: 20px; height: 20px;background-color: rgb(0, 128, 255);\"></td><td title=\"Index: [1, 5]&#10;Color: (0, 0, 0)\" style=\"width: 20px; height: 20px;background-color: rgb(0, 0, 0);\"></td><td title=\"Index: [2, 5]&#10;Color: (0, 0, 0)\" style=\"width: 20px; height: 20px;background-color: rgb(0, 0, 0);\"></td><td title=\"Index: [3, 5]&#10;Color: (0, 128, 255)\" style=\"width: 20px; height: 20px;background-color: rgb(0, 128, 255);\"></td><td title=\"Index: [4, 5]&#10;Color: (0, 0, 0)\" style=\"width: 20px; height: 20px;background-color: rgb(0, 0, 0);\"></td><td title=\"Index: [5, 5]&#10;Color: (0, 0, 0)\" style=\"width: 20px; height: 20px;background-color: rgb(0, 0, 0);\"></td><td title=\"Index: [6, 5]&#10;Color: (0, 128, 255)\" style=\"width: 20px; height: 20px;background-color: rgb(0, 128, 255);\"></td><td title=\"Index: [7, 5]&#10;Color: (0, 0, 0)\" style=\"width: 20px; height: 20px;background-color: rgb(0, 0, 0);\"></td></tr><tr><td title=\"Index: [0, 4]&#10;Color: (255, 0, 128)\" style=\"width: 20px; height: 20px;background-color: rgb(255, 0, 128);\"></td><td title=\"Index: [1, 4]&#10;Color: (255, 0, 128)\" style=\"width: 20px; height: 20px;background-color: rgb(255, 0, 128);\"></td><td title=\"Index: [2, 4]&#10;Color: (255, 0, 128)\" style=\"width: 20px; height: 20px;background-color: rgb(255, 0, 128);\"></td><td title=\"Index: [3, 4]&#10;Color: (255, 0, 128)\" style=\"width: 20px; height: 20px;background-color: rgb(255, 0, 128);\"></td><td title=\"Index: [4, 4]&#10;Color: (255, 0, 128)\" style=\"width: 20px; height: 20px;background-color: rgb(255, 0, 128);\"></td><td title=\"Index: [5, 4]&#10;Color: (255, 0, 128)\" style=\"width: 20px; height: 20px;background-color: rgb(255, 0, 128);\"></td><td title=\"Index: [6, 4]&#10;Color: (255, 0, 128)\" style=\"width: 20px; height: 20px;background-color: rgb(255, 0, 128);\"></td><td title=\"Index: [7, 4]&#10;Color: (255, 0, 128)\" style=\"width: 20px; height: 20px;background-color: rgb(255, 0, 128);\"></td></tr><tr><td title=\"Index: [0, 3]&#10;Color: (0, 128, 255)\" style=\"width: 20px; height: 20px;background-color: rgb(0, 128, 255);\"></td><td title=\"Index: [1, 3]&#10;Color: (0, 0, 0)\" style=\"width: 20px; height: 20px;background-color: rgb(0, 0, 0);\"></td><td title=\"Index: [2, 3]&#10;Color: (0, 0, 0)\" style=\"width: 20px; height: 20px;background-color: rgb(0, 0, 0);\"></td><td title=\"Index: [3, 3]&#10;Color: (0, 128, 255)\" style=\"width: 20px; height: 20px;background-color: rgb(0, 128, 255);\"></td><td title=\"Index: [4, 3]&#10;Color: (0, 0, 0)\" style=\"width: 20px; height: 20px;background-color: rgb(0, 0, 0);\"></td><td title=\"Index: [5, 3]&#10;Color: (0, 0, 0)\" style=\"width: 20px; height: 20px;background-color: rgb(0, 0, 0);\"></td><td title=\"Index: [6, 3]&#10;Color: (0, 128, 255)\" style=\"width: 20px; height: 20px;background-color: rgb(0, 128, 255);\"></td><td title=\"Index: [7, 3]&#10;Color: (0, 0, 0)\" style=\"width: 20px; height: 20px;background-color: rgb(0, 0, 0);\"></td></tr><tr><td title=\"Index: [0, 2]&#10;Color: (255, 0, 128)\" style=\"width: 20px; height: 20px;background-color: rgb(255, 0, 128);\"></td><td title=\"Index: [1, 2]&#10;Color: (255, 0, 128)\" style=\"width: 20px; height: 20px;background-color: rgb(255, 0, 128);\"></td><td title=\"Index: [2, 2]&#10;Color: (255, 0, 128)\" style=\"width: 20px; height: 20px;background-color: rgb(255, 0, 128);\"></td><td title=\"Index: [3, 2]&#10;Color: (255, 0, 128)\" style=\"width: 20px; height: 20px;background-color: rgb(255, 0, 128);\"></td><td title=\"Index: [4, 2]&#10;Color: (255, 0, 128)\" style=\"width: 20px; height: 20px;background-color: rgb(255, 0, 128);\"></td><td title=\"Index: [5, 2]&#10;Color: (255, 0, 128)\" style=\"width: 20px; height: 20px;background-color: rgb(255, 0, 128);\"></td><td title=\"Index: [6, 2]&#10;Color: (255, 0, 128)\" style=\"width: 20px; height: 20px;background-color: rgb(255, 0, 128);\"></td><td title=\"Index: [7, 2]&#10;Color: (255, 0, 128)\" style=\"width: 20px; height: 20px;background-color: rgb(255, 0, 128);\"></td></tr><tr><td title=\"Index: [0, 1]&#10;Color: (0, 128, 255)\" style=\"width: 20px; height: 20px;background-color: rgb(0, 128, 255);\"></td><td title=\"Index: [1, 1]&#10;Color: (0, 0, 0)\" style=\"width: 20px; height: 20px;background-color: rgb(0, 0, 0);\"></td><td title=\"Index: [2, 1]&#10;Color: (0, 0, 0)\" style=\"width: 20px; height: 20px;background-color: rgb(0, 0, 0);\"></td><td title=\"Index: [3, 1]&#10;Color: (0, 128, 255)\" style=\"width: 20px; height: 20px;background-color: rgb(0, 128, 255);\"></td><td title=\"Index: [4, 1]&#10;Color: (0, 0, 0)\" style=\"width: 20px; height: 20px;background-color: rgb(0, 0, 0);\"></td><td title=\"Index: [5, 1]&#10;Color: (0, 0, 0)\" style=\"width: 20px; height: 20px;background-color: rgb(0, 0, 0);\"></td><td title=\"Index: [6, 1]&#10;Color: (0, 128, 255)\" style=\"width: 20px; height: 20px;background-color: rgb(0, 128, 255);\"></td><td title=\"Index: [7, 1]&#10;Color: (0, 0, 0)\" style=\"width: 20px; height: 20px;background-color: rgb(0, 0, 0);\"></td></tr><tr><td title=\"Index: [0, 0]&#10;Color: (255, 0, 128)\" style=\"width: 20px; height: 20px;background-color: rgb(255, 0, 128);\"></td><td title=\"Index: [1, 0]&#10;Color: (255, 0, 128)\" style=\"width: 20px; height: 20px;background-color: rgb(255, 0, 128);\"></td><td title=\"Index: [2, 0]&#10;Color: (255, 0, 128)\" style=\"width: 20px; height: 20px;background-color: rgb(255, 0, 128);\"></td><td title=\"Index: [3, 0]&#10;Color: (255, 0, 128)\" style=\"width: 20px; height: 20px;background-color: rgb(255, 0, 128);\"></td><td title=\"Index: [4, 0]&#10;Color: (255, 0, 128)\" style=\"width: 20px; height: 20px;background-color: rgb(255, 0, 128);\"></td><td title=\"Index: [5, 0]&#10;Color: (255, 0, 128)\" style=\"width: 20px; height: 20px;background-color: rgb(255, 0, 128);\"></td><td title=\"Index: [6, 0]&#10;Color: (255, 0, 128)\" style=\"width: 20px; height: 20px;background-color: rgb(255, 0, 128);\"></td><td title=\"Index: [7, 0]&#10;Color: (255, 0, 128)\" style=\"width: 20px; height: 20px;background-color: rgb(255, 0, 128);\"></td></tr></tbody></table>"
       ],
       "output_type": "display_data",
       "text": [
        "<IPython.core.display.HTML at 0x1027c8cd0>"
       ]
      }
     ],
     "prompt_number": 25
    },
    {
     "cell_type": "markdown",
     "metadata": {},
     "source": [
      "Slicing is an example of [declarative programming](glossary.html#declarative-programming). Instead of telling\n",
      "the computer *how* to do something, we tell it *what* to do, and let it\n",
      "figure out what steps to take to achieve that goal. Behind the scenes,\n",
      "the computer might use a `for` loop to re-color each block in the grid.\n",
      "It might also use some of the advanced features of the CPU to change\n",
      "several blocks simultaneously, or distribute the work between different\n",
      "CPUs if we have a powerful enough machine. We don't need to know: we\n",
      "just need to know that the right thing will happen, and that we can\n",
      "spend our time worrying about more important things."
     ]
    },
    {
     "cell_type": "markdown",
     "metadata": {},
     "source": [
      "## Key Points\n",
      "\n",
      "-   The index of the first element of a collection is 0; the index of\n",
      "    the last element is `len(list)-1`.\n",
      "-   Negative indices count backward from the end of the collection, so\n",
      "    `thing[-1]` is the last element.\n",
      "-   Trying to access an element with an out-of-bounds index is an error.\n",
      "-   Use a slice to select multiple elements.\n",
      "-   Provide a stride to select regularly-spaced elements."
     ]
    }
   ],
   "metadata": {}
  }
 ]
}