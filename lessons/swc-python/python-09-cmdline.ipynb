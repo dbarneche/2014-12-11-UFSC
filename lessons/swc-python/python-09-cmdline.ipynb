{
 "metadata": {
  "name": ""
 },
 "nbformat": 3,
 "nbformat_minor": 0,
 "worksheets": [
  {
   "cells": [
    {
     "cell_type": "heading",
     "level": 1,
     "metadata": {},
     "source": [
      "Basic Programming With Python: Back to the Command Line"
     ]
    },
    {
     "cell_type": "heading",
     "level": 2,
     "metadata": {},
     "source": [
      "Objectives"
     ]
    },
    {
     "cell_type": "markdown",
     "metadata": {},
     "source": [
      "FIXME"
     ]
    },
    {
     "cell_type": "heading",
     "level": 2,
     "metadata": {},
     "source": [
      "Lesson"
     ]
    },
    {
     "cell_type": "markdown",
     "metadata": {},
     "source": [
      "The IPython Notebook and other interactive tools are great for prototyping code and exploring data,\n",
      "but sooner or later we will want to use our program in a pipeline\n",
      "or run it in a shell script to process thousands of data files.\n",
      "In order to do that,\n",
      "we need to make it work like other Unix command-line tools."
     ]
    },
    {
     "cell_type": "code",
     "collapsed": false,
     "input": [
      "!cat fractal_1.txt"
     ],
     "language": "python",
     "metadata": {},
     "outputs": [
      {
       "output_type": "stream",
       "stream": "stdout",
       "text": [
        "000100000\r\n",
        "001100110\r\n",
        "000111100\r\n",
        "001110000\r\n",
        "001100000\r\n",
        "001110000\r\n"
       ]
      }
     ],
     "prompt_number": 1
    },
    {
     "cell_type": "markdown",
     "metadata": {},
     "source": [
      "We want to calculate statistics on these fractals;\n",
      "more specifically,\n",
      "we want a program that will read one or more files\n",
      "and report the average density of each row.\n",
      "For the file above,\n",
      "this might be:\n",
      "\n",
      "    $ fracdens file_1.txt\n",
      "    0.25\n",
      "    0.5\n",
      "    0.5\n",
      "    0.325\n",
      "    0.25\n",
      "    0.325\n",
      "\n",
      "but we might also want to do this:\n",
      "\n",
      "    # look at the density of the first four lines\n",
      "    head -4 file_1.txt | fracdens\n",
      "\n",
      "or:\n",
      "\n",
      "    # look at the densities of several files one after another\n",
      "    fracdens file_1.txt file_2.txt\n",
      "\n",
      "or:\n",
      "\n",
      "    # merge densities of several files of the same size\n",
      "    fracdens -m file_1.txt file_2.txt file_3.txt\n",
      "\n",
      "Here are our overall requirements:\n",
      "\n",
      "1. If no filename is given on the command line, read data from [standard input](glossary.html#standard_input).\n",
      "2. If one or more filenames are given, read data from them and report statistics for each file separately.\n",
      "3. If the -m flag is given, merge the data for several files (i.e., calculate the average density per line across those files).\n",
      "\n",
      "To make this work,\n",
      "we need to know how to handle command-line arguments in a program,\n",
      "and how to get at standard input.\n",
      "We'll tackle these questions in turn below.\n",
      "\n",
      "One thing that will make this tricky is that we can't run our code in a cell in an IPython Notebook.\n",
      "Instead,\n",
      "we must put our code in separate files and run them from the shell."
     ]
    },
    {
     "cell_type": "heading",
     "level": 2,
     "metadata": {},
     "source": [
      "Command-Line Arguments"
     ]
    },
    {
     "cell_type": "markdown",
     "metadata": {},
     "source": [
      "Using the text editor of your choice,\n",
      "save the following in a text file:"
     ]
    },
    {
     "cell_type": "code",
     "collapsed": false,
     "input": [
      "!cat sys_version.py"
     ],
     "language": "python",
     "metadata": {},
     "outputs": [
      {
       "output_type": "stream",
       "stream": "stdout",
       "text": [
        "import sys\r\n",
        "print 'version is', sys.version\r\n"
       ]
      }
     ],
     "prompt_number": 2
    },
    {
     "cell_type": "markdown",
     "metadata": {},
     "source": [
      "The first line imports a library called `sys`,\n",
      "which is short for \"system\".\n",
      "It defines values such as `sys.version`,\n",
      "which describes which version of Python we are running.\n",
      "We can run this script from within the IPython Notebook like this:"
     ]
    },
    {
     "cell_type": "code",
     "collapsed": false,
     "input": [
      "%run sys_version.py"
     ],
     "language": "python",
     "metadata": {},
     "outputs": [
      {
       "output_type": "stream",
       "stream": "stdout",
       "text": [
        "version is 2.7.5 |Anaconda 1.6.1 (x86_64)| (default, Jun 28 2013, 22:20:13) \n",
        "[GCC 4.0.1 (Apple Inc. build 5493)]\n"
       ]
      }
     ],
     "prompt_number": 3
    },
    {
     "cell_type": "markdown",
     "metadata": {},
     "source": [
      "or like this:"
     ]
    },
    {
     "cell_type": "code",
     "collapsed": false,
     "input": [
      "!ipython sys_version.py"
     ],
     "language": "python",
     "metadata": {},
     "outputs": [
      {
       "output_type": "stream",
       "stream": "stdout",
       "text": [
        "version is 2.7.5 |Anaconda 1.6.1 (x86_64)| (default, Jun 28 2013, 22:20:13) \r\n",
        "[GCC 4.0.1 (Apple Inc. build 5493)]\r\n"
       ]
      }
     ],
     "prompt_number": 4
    },
    {
     "cell_type": "markdown",
     "metadata": {},
     "source": [
      "FIXME: explain the difference between the two approaches."
     ]
    },
    {
     "cell_type": "markdown",
     "metadata": {},
     "source": [
      "Here's another script that does something more interesting:"
     ]
    },
    {
     "cell_type": "code",
     "collapsed": false,
     "input": [
      "!cat argv_list.py"
     ],
     "language": "python",
     "metadata": {},
     "outputs": [
      {
       "output_type": "stream",
       "stream": "stdout",
       "text": [
        "import sys\r\n",
        "print 'sys.argv is', sys.argv\r\n"
       ]
      }
     ],
     "prompt_number": 5
    },
    {
     "cell_type": "markdown",
     "metadata": {},
     "source": [
      "The strange name `argv` stands for \"argument values\".\n",
      "Whenever Python runs a program,\n",
      "it takes all of the values given on the command line\n",
      "and puts them in the list `sys.argv`\n",
      "so that the program can determine what they were.\n",
      "If we run this program with no arguments:"
     ]
    },
    {
     "cell_type": "code",
     "collapsed": false,
     "input": [
      "!ipython argv_list.py"
     ],
     "language": "python",
     "metadata": {},
     "outputs": [
      {
       "output_type": "stream",
       "stream": "stdout",
       "text": [
        "sys.argv is ['/Users/gwilson/bc/lessons/swc-python/argv_list.py']\r\n"
       ]
      }
     ],
     "prompt_number": 6
    },
    {
     "cell_type": "markdown",
     "metadata": {},
     "source": [
      "the only thing in the list is the full path to our script,\n",
      "which is always `sys.argv[0]`.\n",
      "If we run it with a few arguments, however:"
     ]
    },
    {
     "cell_type": "code",
     "collapsed": false,
     "input": [
      "!ipython argv_list.py first second third"
     ],
     "language": "python",
     "metadata": {},
     "outputs": [
      {
       "output_type": "stream",
       "stream": "stdout",
       "text": [
        "sys.argv is ['/Users/gwilson/bc/lessons/swc-python/argv_list.py', 'first', 'second', 'third']\r\n"
       ]
      }
     ],
     "prompt_number": 7
    },
    {
     "cell_type": "markdown",
     "metadata": {},
     "source": [
      "then Python adds each of those arguments to that magic list.\n",
      "And if we use a wildcard:"
     ]
    },
    {
     "cell_type": "code",
     "collapsed": false,
     "input": [
      "!ls fractal_*.txt"
     ],
     "language": "python",
     "metadata": {},
     "outputs": [
      {
       "output_type": "stream",
       "stream": "stdout",
       "text": [
        "fractal_1.txt fractal_2.txt fractal_3.txt\r\n"
       ]
      }
     ],
     "prompt_number": 8
    },
    {
     "cell_type": "code",
     "collapsed": false,
     "input": [
      "!ipython argv_list.py fractal_*.txt"
     ],
     "language": "python",
     "metadata": {},
     "outputs": [
      {
       "output_type": "stream",
       "stream": "stdout",
       "text": [
        "sys.argv is ['/Users/gwilson/bc/lessons/swc-python/argv_list.py', 'fractal_1.txt', 'fractal_2.txt', 'fractal_3.txt']\r\n"
       ]
      }
     ],
     "prompt_number": 9
    },
    {
     "cell_type": "markdown",
     "metadata": {},
     "source": [
      "then the shell expands it *before* calling our script,\n",
      "so that `sys.argv` holds the complete list of arguments,\n",
      "rather than the string containing the wildcard.\n",
      "Note,\n",
      "by the way,\n",
      "that the `%run` magic does almost the same thing:"
     ]
    },
    {
     "cell_type": "code",
     "collapsed": false,
     "input": [
      "%run argv_list.py fractal_*.txt"
     ],
     "language": "python",
     "metadata": {},
     "outputs": [
      {
       "output_type": "stream",
       "stream": "stdout",
       "text": [
        "sys.argv is ['argv_list.py', 'fractal_1.txt', 'fractal_2.txt', 'fractal_3.txt']\n"
       ]
      }
     ],
     "prompt_number": 10
    },
    {
     "cell_type": "markdown",
     "metadata": {},
     "source": [
      "With this in hand,\n",
      "let's build a version of `fracdens` that processes one or more files independently of each other\n",
      "(i.e.,\n",
      "that doesn't look for a `-A` flag,\n",
      "and doesn't read from standard input).\n",
      "The first step is to write a `main` function that outlines our implementation,\n",
      "and a placeholder for the function that does the actual work:"
     ]
    },
    {
     "cell_type": "code",
     "collapsed": false,
     "input": [
      "!cat fracdens_1.py"
     ],
     "language": "python",
     "metadata": {},
     "outputs": [
      {
       "output_type": "stream",
       "stream": "stdout",
       "text": [
        "def main():\r\n",
        "    script = sys.argv[0]\r\n",
        "    filenames = sys.argv[1:]\r\n",
        "    for f in filenames:\r\n",
        "        process(f)\r\n",
        "\r\n",
        "def process(filename):\r\n",
        "    print filename\r\n"
       ]
      }
     ],
     "prompt_number": 11
    },
    {
     "cell_type": "markdown",
     "metadata": {},
     "source": [
      "This function gets the name of the script from `sys.argv[0]`,\n",
      "because that's where it's always put,\n",
      "and the list of files to be processed from `sys.argv[1:]`.\n",
      "The colon inside the brackets is important:\n",
      "the expression `list[1:]` means,\n",
      "\"All the elements of the list from index 1 to the end.\"\n",
      "Here's a simple test:"
     ]
    },
    {
     "cell_type": "code",
     "collapsed": false,
     "input": [
      "%run fracdens_1.py fractal_1.txt"
     ],
     "language": "python",
     "metadata": {},
     "outputs": [],
     "prompt_number": 12
    },
    {
     "cell_type": "markdown",
     "metadata": {},
     "source": [
      "Why is there no output?\n",
      "The answer is that we have defined two functions,\n",
      "but haven't actually called either of them.\n",
      "Let's add a line:"
     ]
    },
    {
     "cell_type": "code",
     "collapsed": false,
     "input": [
      "!cat fracdens_2.py"
     ],
     "language": "python",
     "metadata": {},
     "outputs": [
      {
       "output_type": "stream",
       "stream": "stdout",
       "text": [
        "def main():\r\n",
        "    script = sys.argv[0]\r\n",
        "    filenames = sys.argv[1:]\r\n",
        "    for f in filenames:\r\n",
        "        process(f)\r\n",
        "\r\n",
        "def process(filename):\r\n",
        "    print filename\r\n",
        "\r\n",
        "# Run the program.\r\n",
        "main()\r\n"
       ]
      }
     ],
     "prompt_number": 13
    },
    {
     "cell_type": "markdown",
     "metadata": {},
     "source": [
      "and run that:"
     ]
    },
    {
     "cell_type": "code",
     "collapsed": false,
     "input": [
      "%run fracdens_2.py fractal_1.txt"
     ],
     "language": "python",
     "metadata": {},
     "outputs": [
      {
       "ename": "NameError",
       "evalue": "global name 'sys' is not defined",
       "output_type": "pyerr",
       "traceback": [
        "\u001b[0;31m---------------------------------------------------------------------------\u001b[0m\n\u001b[0;31mNameError\u001b[0m                                 Traceback (most recent call last)",
        "\u001b[0;32m/Users/gwilson/anaconda/lib/python2.7/site-packages/IPython/utils/py3compat.pyc\u001b[0m in \u001b[0;36mexecfile\u001b[0;34m(fname, *where)\u001b[0m\n\u001b[1;32m    202\u001b[0m             \u001b[0;32melse\u001b[0m\u001b[0;34m:\u001b[0m\u001b[0;34m\u001b[0m\u001b[0m\n\u001b[1;32m    203\u001b[0m                 \u001b[0mfilename\u001b[0m \u001b[0;34m=\u001b[0m \u001b[0mfname\u001b[0m\u001b[0;34m\u001b[0m\u001b[0m\n\u001b[0;32m--> 204\u001b[0;31m             \u001b[0m__builtin__\u001b[0m\u001b[0;34m.\u001b[0m\u001b[0mexecfile\u001b[0m\u001b[0;34m(\u001b[0m\u001b[0mfilename\u001b[0m\u001b[0;34m,\u001b[0m \u001b[0;34m*\u001b[0m\u001b[0mwhere\u001b[0m\u001b[0;34m)\u001b[0m\u001b[0;34m\u001b[0m\u001b[0m\n\u001b[0m",
        "\u001b[0;32m/Users/gwilson/bc/lessons/swc-python/fracdens_2.py\u001b[0m in \u001b[0;36m<module>\u001b[0;34m()\u001b[0m\n\u001b[1;32m      9\u001b[0m \u001b[0;34m\u001b[0m\u001b[0m\n\u001b[1;32m     10\u001b[0m \u001b[0;31m# Run the program.\u001b[0m\u001b[0;34m\u001b[0m\u001b[0;34m\u001b[0m\u001b[0m\n\u001b[0;32m---> 11\u001b[0;31m \u001b[0mmain\u001b[0m\u001b[0;34m(\u001b[0m\u001b[0;34m)\u001b[0m\u001b[0;34m\u001b[0m\u001b[0m\n\u001b[0m",
        "\u001b[0;32m/Users/gwilson/bc/lessons/swc-python/fracdens_2.py\u001b[0m in \u001b[0;36mmain\u001b[0;34m()\u001b[0m\n\u001b[1;32m      1\u001b[0m \u001b[0;32mdef\u001b[0m \u001b[0mmain\u001b[0m\u001b[0;34m(\u001b[0m\u001b[0;34m)\u001b[0m\u001b[0;34m:\u001b[0m\u001b[0;34m\u001b[0m\u001b[0m\n\u001b[0;32m----> 2\u001b[0;31m     \u001b[0mscript\u001b[0m \u001b[0;34m=\u001b[0m \u001b[0msys\u001b[0m\u001b[0;34m.\u001b[0m\u001b[0margv\u001b[0m\u001b[0;34m[\u001b[0m\u001b[0;36m0\u001b[0m\u001b[0;34m]\u001b[0m\u001b[0;34m\u001b[0m\u001b[0m\n\u001b[0m\u001b[1;32m      3\u001b[0m     \u001b[0mfilenames\u001b[0m \u001b[0;34m=\u001b[0m \u001b[0msys\u001b[0m\u001b[0;34m.\u001b[0m\u001b[0margv\u001b[0m\u001b[0;34m[\u001b[0m\u001b[0;36m1\u001b[0m\u001b[0;34m:\u001b[0m\u001b[0;34m]\u001b[0m\u001b[0;34m\u001b[0m\u001b[0m\n\u001b[1;32m      4\u001b[0m     \u001b[0;32mfor\u001b[0m \u001b[0mf\u001b[0m \u001b[0;32min\u001b[0m \u001b[0mfilenames\u001b[0m\u001b[0;34m:\u001b[0m\u001b[0;34m\u001b[0m\u001b[0m\n\u001b[1;32m      5\u001b[0m         \u001b[0mprocess\u001b[0m\u001b[0;34m(\u001b[0m\u001b[0mf\u001b[0m\u001b[0;34m)\u001b[0m\u001b[0;34m\u001b[0m\u001b[0m\n",
        "\u001b[0;31mNameError\u001b[0m: global name 'sys' is not defined"
       ]
      }
     ],
     "prompt_number": 14
    },
    {
     "cell_type": "markdown",
     "metadata": {},
     "source": [
      "Oops:\n",
      "we have imported `sys` in this notebook,\n",
      "but we haven't imported it in our script,\n",
      "which is being run in a separate instance of Python.\n",
      "Let's make one more change:"
     ]
    },
    {
     "cell_type": "code",
     "collapsed": false,
     "input": [
      "!cat fracdens_3.py"
     ],
     "language": "python",
     "metadata": {},
     "outputs": [
      {
       "output_type": "stream",
       "stream": "stdout",
       "text": [
        "import sys\r\n",
        "\r\n",
        "def main():\r\n",
        "    script = sys.argv[0]\r\n",
        "    filenames = sys.argv[1:]\r\n",
        "    for f in filenames:\r\n",
        "        process(f)\r\n",
        "\r\n",
        "def process(filename):\r\n",
        "    print filename\r\n",
        "\r\n",
        "# Run the program.\r\n",
        "main()\r\n"
       ]
      }
     ],
     "prompt_number": 15
    },
    {
     "cell_type": "markdown",
     "metadata": {},
     "source": [
      "and run that:"
     ]
    },
    {
     "cell_type": "code",
     "collapsed": false,
     "input": [
      "%run fracdens_3.py fractal_1.txt"
     ],
     "language": "python",
     "metadata": {},
     "outputs": [
      {
       "output_type": "stream",
       "stream": "stdout",
       "text": [
        "fractal_1.txt\n"
       ]
      }
     ],
     "prompt_number": 16
    },
    {
     "cell_type": "markdown",
     "metadata": {},
     "source": [
      "Success!\n",
      "Now,\n",
      "what if we run it with several filenames?"
     ]
    },
    {
     "cell_type": "code",
     "collapsed": false,
     "input": [
      "%run fracdens_3.py fractal_*.txt"
     ],
     "language": "python",
     "metadata": {},
     "outputs": [
      {
       "output_type": "stream",
       "stream": "stdout",
       "text": [
        "fractal_1.txt\n",
        "fractal_2.txt\n",
        "fractal_3.txt\n"
       ]
      }
     ],
     "prompt_number": 17
    },
    {
     "cell_type": "markdown",
     "metadata": {},
     "source": [
      "Good:\n",
      "we appear to be getting the filenames correctly."
     ]
    },
    {
     "cell_type": "heading",
     "level": 2,
     "metadata": {},
     "source": [
      "Handling Command-Line Flags"
     ]
    },
    {
     "cell_type": "markdown",
     "metadata": {},
     "source": [
      "The next step is to enhance our program to handle the `-A` flag\n",
      "that tells it to merge data from all the files.\n",
      "By convention,\n",
      "flags always appear before lists of filenames,\n",
      "so we could simply do this:"
     ]
    },
    {
     "cell_type": "code",
     "collapsed": false,
     "input": [
      "def handle_args():\n",
      "    script = sys.argv[0]\n",
      "    if sys.argv[1] == '-m':\n",
      "        merge_data = True\n",
      "        filenames = sys.argv[2:]\n",
      "    else:\n",
      "        merge_data = False\n",
      "        filenames = sys.argv[1:]\n",
      "    return script, merge_data, filenames"
     ],
     "language": "python",
     "metadata": {},
     "outputs": [],
     "prompt_number": 18
    },
    {
     "cell_type": "markdown",
     "metadata": {},
     "source": [
      "There are at least three things wrong with this approach, though.\n",
      "The first is that it doesn't scale:\n",
      "if our program eventually takes several arguments\n",
      "(e.g., to control what statistics are calculated),\n",
      "we're going to have a lot of branches in that `if` statement.\n",
      "The second is that this version actually contains a bug:\n",
      "if we don't provide any arguments or filenames,\n",
      "the attempt on line 2 to check `sys.argv[1]` will fail with an index-out-of-bounds error.\n",
      "This means that:\n",
      "\n",
      "    fracdens < fractal_221.txt\n",
      "\n",
      "will blow up instead of printing statistics for `fractal_221.txt`\n",
      "(which the program is reading from standard input).\n",
      "\n",
      "The third thing that's wrong with this approach is that it's hard to test.\n",
      "As written,\n",
      "`handle_args` always gets data from `sys.argv`,\n",
      "which means we can't write unit tests for it using something like Ears.\n",
      "What we really ought to do is pass in the list of strings to be processed,\n",
      "so that we can write unit tests,\n",
      "and then call `handle_args` with `sys.argv` as an argument from `main`,\n",
      "and with other lists of strings as arguments from tests."
     ]
    },
    {
     "cell_type": "markdown",
     "metadata": {},
     "source": [
      "Here's a better version of `handle_args` that uses Python's `optparse` library to handle arguments:"
     ]
    },
    {
     "cell_type": "code",
     "collapsed": false,
     "input": [
      "from optparse import OptionParser\n",
      "\n",
      "def handle_args(args):\n",
      "    script, rest = args[0], args[1:]\n",
      "    parser = OptionParser()\n",
      "    parser.add_option('-m', '--merge', dest='merge', help='Merge data from all files', default=False, action='store_true')\n",
      "    options, args = parser.parse_args(args=rest)\n",
      "    return script, options, args"
     ],
     "language": "python",
     "metadata": {},
     "outputs": [],
     "prompt_number": 19
    },
    {
     "cell_type": "markdown",
     "metadata": {},
     "source": [
      "The `optparse` library defines a tool called `OptionParser`,\n",
      "which knows how to handle complex arrangements of command-line parameters.\n",
      "Line 5 of the code above creates one of these;\n",
      "line 6 then tells it that our command line may contain one flag that:\n",
      "\n",
      "* has a short form `-m` and a long form `--merge` (which are interchangeable);\n",
      "* is stored in the property called `all` of the `options` object;\n",
      "* is false by default, but should be set to true if the flag is present; and\n",
      "* tells the program to merge data from all files.\n",
      "\n",
      "Let's try it out:"
     ]
    },
    {
     "cell_type": "code",
     "collapsed": false,
     "input": [
      "script, flags, filenames = handle_args(['fracdens', 'fractal_1.txt'])\n",
      "print 'script name is', script\n",
      "print 'flags.merge is', flags.merge\n",
      "print 'filenames are', filenames"
     ],
     "language": "python",
     "metadata": {},
     "outputs": [
      {
       "output_type": "stream",
       "stream": "stdout",
       "text": [
        "script name is fracdens\n",
        "flags.merge is False\n",
        "filenames are ['fractal_1.txt']\n"
       ]
      }
     ],
     "prompt_number": 20
    },
    {
     "cell_type": "markdown",
     "metadata": {},
     "source": [
      "And again:"
     ]
    },
    {
     "cell_type": "code",
     "collapsed": false,
     "input": [
      "script, flags, filenames = handle_args(['fracdens', '-m', 'fractal_1.txt', 'fractal_2.txt'])\n",
      "print 'script name is', script\n",
      "print 'flags.merge is', flags.merge\n",
      "print 'filenames are', filenames"
     ],
     "language": "python",
     "metadata": {},
     "outputs": [
      {
       "output_type": "stream",
       "stream": "stdout",
       "text": [
        "script name is fracdens\n",
        "flags.merge is True\n",
        "filenames are ['fractal_1.txt', 'fractal_2.txt']\n"
       ]
      }
     ],
     "prompt_number": 21
    },
    {
     "cell_type": "markdown",
     "metadata": {},
     "source": [
      "Of course,\n",
      "the right thing to do here is to write a few unit tests:"
     ]
    },
    {
     "cell_type": "code",
     "collapsed": false,
     "input": [
      "import ears\n",
      "\n",
      "def test_parse_no_args():\n",
      "    script, flags, filenames = handle_args(['fracdens'])\n",
      "    assert script == 'fracdens'\n",
      "    assert not flags.merge\n",
      "    assert filenames == []\n",
      "\n",
      "def test_parse_one_filename():\n",
      "    script, flags, filenames = handle_args(['fracdens', 'fractal_1.txt'])\n",
      "    assert script == 'fracdens'\n",
      "    assert not flags.merge\n",
      "    assert filenames == ['fractal_1.txt']\n",
      "\n",
      "def test_parse_just_merge():\n",
      "    script, flags, filenames = handle_args(['fracdens', '-m'])\n",
      "    assert script == 'fracdens'\n",
      "    assert flags.merge\n",
      "    assert filenames == []\n",
      "\n",
      "def test_parse_merge_multiple():\n",
      "    script, flags, filenames = handle_args(['fracdens', '-m', 'fractal_1.txt', 'fractal_2.txt'])\n",
      "    assert script == 'fracdens'\n",
      "    assert flags.merge\n",
      "    assert len(filenames) == 2\n",
      "\n",
      "def test_bad_command_line():\n",
      "    try:\n",
      "        script, flags, filenames = handle_args(['fracdens', 'fractal_1.txt', '-M']) # upper-case M, and out of order\n",
      "        assert False, 'Should have had an exception'\n",
      "    except:\n",
      "        pass # exception as expected\n",
      "\n",
      "ears.run()"
     ],
     "language": "python",
     "metadata": {},
     "outputs": [
      {
       "output_type": "stream",
       "stream": "stdout",
       "text": [
        ".....\n",
        "5 pass, 0 fail, 0 error\n"
       ]
      },
      {
       "output_type": "stream",
       "stream": "stderr",
       "text": [
        "Usage: -c [options]\n",
        "\n",
        "-c: error: no such option: -M\n"
       ]
      }
     ],
     "prompt_number": 22
    },
    {
     "cell_type": "markdown",
     "metadata": {},
     "source": [
      "<hr/>\n",
      "### *Testing and Learning*\n",
      "\n",
      "<em>\n",
      "In practice,\n",
      "we probably wouldn't write these unit tests if we were familiar with the `optparse` library.\n",
      "Since we're just introducing it,\n",
      "though,\n",
      "and are always looking for opportunities to show what unit testing looks like,\n",
      "we've included the tests.\n",
      "</em>\n",
      "<hr/>"
     ]
    },
    {
     "cell_type": "markdown",
     "metadata": {},
     "source": [
      "Let's put `handle_args` in our growing program:"
     ]
    },
    {
     "cell_type": "code",
     "collapsed": false,
     "input": [
      "!cat fracdens_4.py"
     ],
     "language": "python",
     "metadata": {},
     "outputs": [
      {
       "output_type": "stream",
       "stream": "stdout",
       "text": [
        "import sys\r\n",
        "from optparse import OptionParser\r\n",
        "\r\n",
        "def main():\r\n",
        "    script, flags, filenames = handle_args(sys.argv)\r\n",
        "    if flags.merge:\r\n",
        "        process('all', filenames)\r\n",
        "    else:\r\n",
        "        for f in filenames:\r\n",
        "            process(f, [f])\r\n",
        "\r\n",
        "def handle_args(args):\r\n",
        "    script, rest = args[0], args[1:]\r\n",
        "    parser = OptionParser()\r\n",
        "    parser.add_option('-m', '--merge', dest='merge', help='Merge data from all files', default=False, action='store_true')\r\n",
        "    options, args = parser.parse_args(args=rest)\r\n",
        "    return script, options, args\r\n",
        "\r\n",
        "def process(name, filenames):\r\n",
        "    print name, len(filenames)\r\n",
        "\r\n",
        "# Run the program.\r\n",
        "main()\r\n"
       ]
      }
     ],
     "prompt_number": 23
    },
    {
     "cell_type": "markdown",
     "metadata": {},
     "source": [
      "Notice how `main` and `process` have changed.\n",
      "If we're merging data from multiple files,\n",
      "we pass the string `'all'` and the list of filenames to `process`;\n",
      "if we're processing files separately,\n",
      "we pass in the name of one file,\n",
      "and a list containing just that file.\n",
      "This ensures that `process` always gets a string and a list,\n",
      "which will make it easier to write.\n",
      "Let's try it out:"
     ]
    },
    {
     "cell_type": "code",
     "collapsed": false,
     "input": [
      "%run fracdens_4.py fractal_1.txt"
     ],
     "language": "python",
     "metadata": {},
     "outputs": [
      {
       "output_type": "stream",
       "stream": "stdout",
       "text": [
        "fractal_1.txt 1\n"
       ]
      }
     ],
     "prompt_number": 24
    },
    {
     "cell_type": "code",
     "collapsed": false,
     "input": [
      "%run fracdens_4.py -m fractal_*.txt"
     ],
     "language": "python",
     "metadata": {},
     "outputs": [
      {
       "output_type": "stream",
       "stream": "stdout",
       "text": [
        "all 3\n"
       ]
      }
     ],
     "prompt_number": 25
    },
    {
     "cell_type": "markdown",
     "metadata": {},
     "source": [
      "<hr/>\n",
      "### *Don't Do It This Way*\n",
      "\n",
      "<em>\n",
      "We now have four Python files named `fracdens_1.py` to `fracdens_4.py`.\n",
      "You should **not** do this when you are writing code yourself:\n",
      "instead,\n",
      "you should use a version control system to manage the file's evolution,\n",
      "and commit it each time you add some useful feature.\n",
      "We can't do this because we want to display successive versions simultaneously in a notebook,\n",
      "but that's a rare case.\n",
      "</em>\n",
      "<hr/>"
     ]
    },
    {
     "cell_type": "heading",
     "level": 2,
     "metadata": {},
     "source": [
      "Handling Standard Input"
     ]
    },
    {
     "cell_type": "markdown",
     "metadata": {},
     "source": [
      "The next thing our program has to do is read data from standard input if no filenames are given.\n",
      "This is not only the Unix convention,\n",
      "it's also what allows our program to play nicely with others in a pipeline\n",
      "(where input may come from a preceding program rather than a file).\n",
      "Let's experiment in another script:"
     ]
    },
    {
     "cell_type": "code",
     "collapsed": false,
     "input": [
      "!cat count_stdin.py"
     ],
     "language": "python",
     "metadata": {},
     "outputs": [
      {
       "output_type": "stream",
       "stream": "stdout",
       "text": [
        "import sys\r\n",
        "\r\n",
        "count = 0\r\n",
        "for line in sys.stdin:\r\n",
        "    count += 1\r\n",
        "\r\n",
        "print '{0} lines in standard input'.format(count)\r\n"
       ]
      }
     ],
     "prompt_number": 26
    },
    {
     "cell_type": "markdown",
     "metadata": {},
     "source": [
      "This little program reads lines from a special \"file\" called `sys.stdin`,\n",
      "which is actually the program's standard input.\n",
      "We don't have to open it&mdash;Python and the operating system\n",
      "automatically take care of that between themselves when the program is run&mdash;\n",
      "but we can do almost anything with it that we could do to a regular file.\n",
      "Let's try running it as if it were a regular command-line program:"
     ]
    },
    {
     "cell_type": "code",
     "collapsed": false,
     "input": [
      "!ipython count_stdin.py < fractal_1.txt"
     ],
     "language": "python",
     "metadata": {},
     "outputs": [
      {
       "output_type": "stream",
       "stream": "stdout",
       "text": [
        "6 lines in standard input\r\n"
       ]
      }
     ],
     "prompt_number": 27
    },
    {
     "cell_type": "markdown",
     "metadata": {},
     "source": [
      "What if we run it using `%run`?"
     ]
    },
    {
     "cell_type": "code",
     "collapsed": false,
     "input": [
      "%run count_stdin.py < fractal_1.txt"
     ],
     "language": "python",
     "metadata": {},
     "outputs": [
      {
       "output_type": "stream",
       "stream": "stdout",
       "text": [
        "0 lines in standard input\n"
       ]
      }
     ],
     "prompt_number": 28
    },
    {
     "cell_type": "markdown",
     "metadata": {},
     "source": [
      "As you can see,\n",
      "`%run` doesn't understand file redirection:\n",
      "that's a shell thing."
     ]
    },
    {
     "cell_type": "markdown",
     "metadata": {},
     "source": [
      "<hr/>\n",
      "### *No Input Takes a Long Time to Read*\n",
      "\n",
      "<em>\n",
      "A common mistake is to try to run something that reads from standard input like this:\n",
      "\n",
      "    !ipython count_stdin.py fractal_1.txt\n",
      "\n",
      "i.e., to forget the `<` character that redirect the file to standard input.\n",
      "In this case,\n",
      "there's nothing in standard input,\n",
      "so the program waits at the start of the loop for someone to type something on the keyboard.\n",
      "Since there's no way for us to do this,\n",
      "our program is stuck,\n",
      "and we have to halt it using the `Interrupt` option from the `Kernel` menu in the Notebook.\n",
      "</em>\n",
      "<hr/>"
     ]
    },
    {
     "cell_type": "markdown",
     "metadata": {},
     "source": [
      "We now need to figure out how to rewrite `process` to handle both actual files and standard input,\n",
      "and to handle merging if asked to.\n",
      "After a bit of thought,\n",
      "we come up with three cases:\n",
      "\n",
      "* No filenames on the command line: process standard input as a single \"file\".\n",
      "* No merge flag: process each named file separately.\n",
      "* Merge flag provided: process all named files in a batch.\n",
      "\n",
      "This gives us the following main program:"
     ]
    },
    {
     "cell_type": "code",
     "collapsed": false,
     "input": [
      "def main():\n",
      "    script, flags, filenames = handle_args(sys.argv)\n",
      "    if flags.merge:\n",
      "        process('all', filenames)\n",
      "    elif not filenames:\n",
      "        process('stdin', [])\n",
      "    else:\n",
      "        for f in filenames:\n",
      "            process(f, [f])"
     ],
     "language": "python",
     "metadata": {},
     "outputs": [],
     "prompt_number": 29
    },
    {
     "cell_type": "markdown",
     "metadata": {},
     "source": [
      "Now let's think about the data we need to collect from our files.\n",
      "In order to calculate density per line,\n",
      "we'll need to know how wide each line is,\n",
      "i.e.,\n",
      "what to divide the cell count per line by.\n",
      "We'll also need to know how many files we processed so that we can average properly,\n",
      "and most importantly,\n",
      "we'll need a way to accumulate the counts per line in the multi-file case.\n",
      "Let's try this:"
     ]
    },
    {
     "cell_type": "code",
     "collapsed": false,
     "input": [
      "def process(name, filenames):\n",
      "    if len(filenames) == 0:\n",
      "        number = 1\n",
      "        width, counts = count_cells(sys.stdin)\n",
      "    else:\n",
      "        number = len(filenames)\n",
      "        with open(filenames[0], 'r') as source:\n",
      "            width, counts = count_cells(source)\n",
      "        for f in filenames[1:]:\n",
      "            with open(f, 'r') as source:\n",
      "                new_width, new_counts = count_cells(source)\n",
      "            counts = combine(counts, new_counts)\n",
      "    report(name, counts, number * width)"
     ],
     "language": "python",
     "metadata": {},
     "outputs": [],
     "prompt_number": 30
    },
    {
     "cell_type": "markdown",
     "metadata": {},
     "source": [
      "The first branch of the `if` takes care of the standard input case\n",
      "by calling an as-yet-unwritten function called `count_cells`,\n",
      "which returns the width of the input data\n",
      "(which we need for calculating averages)\n",
      "and a list of the number of 1's in each row.\n",
      "\n",
      "The second branch of the `if` uses this same `count_cells` function to get data from the first input function,\n",
      "and then again in a loop to get data from the second and subsequent files.\n",
      "As it reads data from later files,\n",
      "it uses another function called `combine` to add data to `counts`,\n",
      "so that we wind up with a list holding the total number of filled-in cells per line\n",
      "across all of our data files.\n",
      "\n",
      "We need to handle the first data file and all others separately because\n",
      "we don't know the length of our data files in advance.\n",
      "If we did,\n",
      "we would create a list with exactly as many zeroes in it\n",
      "as we have lines in our data files,\n",
      "and just add everything into that:"
     ]
    },
    {
     "cell_type": "markdown",
     "metadata": {},
     "source": [
      "    else:\n",
      "        counts = [0] * data_file_length # we can't do this because we don't know how long data files are\n",
      "        for f in filenames:\n",
      "            with open(f, 'r') as source:\n",
      "                width, new_counts = count_cells(source)\n",
      "                counts = combine(counts, new_counts)"
     ]
    },
    {
     "cell_type": "markdown",
     "metadata": {},
     "source": [
      "Initializing our accumulator from the first data file,\n",
      "then combining values from subsequent data files with it,\n",
      "is a common pattern.\n",
      "\n",
      "Now that we have `process` written,\n",
      "we can fill in the functions it depends on.\n",
      "Our whole program is then:"
     ]
    },
    {
     "cell_type": "code",
     "collapsed": false,
     "input": [
      "!cat fracdens_5.py"
     ],
     "language": "python",
     "metadata": {},
     "outputs": [
      {
       "output_type": "stream",
       "stream": "stdout",
       "text": [
        "import sys\r\n",
        "from optparse import OptionParser\r\n",
        "\r\n",
        "def main():\r\n",
        "    script, flags, filenames = handle_args(sys.argv)\r\n",
        "    if flags.merge:\r\n",
        "        process('all', filenames)\r\n",
        "    elif not filenames:\r\n",
        "        process('stdin', [])\r\n",
        "    else:\r\n",
        "        for f in filenames:\r\n",
        "            process(f, [f])\r\n",
        "\r\n",
        "def handle_args(args):\r\n",
        "    script, rest = args[0], args[1:]\r\n",
        "    parser = OptionParser()\r\n",
        "    parser.add_option('-m', '--merge', dest='merge', help='Merge data from all files', default=False, action='store_true')\r\n",
        "    options, args = parser.parse_args(args=rest)\r\n",
        "    return script, options, args\r\n",
        "\r\n",
        "def process(name, filenames):\r\n",
        "    if len(filenames) == 0:\r\n",
        "        number = 1\r\n",
        "        width, counts = count_cells(sys.stdin)\r\n",
        "    else:\r\n",
        "        number = len(filenames)\r\n",
        "        with open(filenames[0], 'r') as source:\r\n",
        "            width, counts = count_cells(source)\r\n",
        "        for f in filenames[1:]:\r\n",
        "            with open(f, 'r') as source:\r\n",
        "                new_width, new_counts = count_cells(source)\r\n",
        "            counts = combine(counts, new_counts)\r\n",
        "    report(name, counts, number * width)\r\n",
        "\r\n",
        "def count_cells(source):\r\n",
        "    count = []\r\n",
        "    for line in source:\r\n",
        "        line = line.strip()\r\n",
        "        width = len(line)\r\n",
        "        count.append(line.count('1'))\r\n",
        "    return width, count\r\n",
        "\r\n",
        "def combine(left, right):\r\n",
        "    result = []\r\n",
        "    for i in range(len(left)):\r\n",
        "        result.append(left[i] + right[i])\r\n",
        "    return result\r\n",
        "\r\n",
        "def report(name, totals, scale):\r\n",
        "    print name\r\n",
        "    for num in totals:\r\n",
        "        print float(num) / scale\r\n",
        "\r\n",
        "# Run the program.\r\n",
        "main()\r\n"
       ]
      }
     ],
     "prompt_number": 31
    },
    {
     "cell_type": "markdown",
     "metadata": {},
     "source": [
      "Let's run it on a single input file:"
     ]
    },
    {
     "cell_type": "code",
     "collapsed": false,
     "input": [
      "!ipython fracdens_5.py fractal_1.txt"
     ],
     "language": "python",
     "metadata": {},
     "outputs": [
      {
       "output_type": "stream",
       "stream": "stdout",
       "text": [
        "fractal_1.txt\r\n",
        "0.111111111111\r\n",
        "0.444444444444\r\n",
        "0.444444444444\r\n",
        "0.333333333333\r\n",
        "0.222222222222\r\n",
        "0.333333333333\r\n"
       ]
      }
     ],
     "prompt_number": 32
    },
    {
     "cell_type": "markdown",
     "metadata": {},
     "source": [
      "And on three:"
     ]
    },
    {
     "cell_type": "code",
     "collapsed": false,
     "input": [
      "!ipython fracdens_5.py fractal_1.txt fractal_2.txt fractal_3.txt"
     ],
     "language": "python",
     "metadata": {},
     "outputs": [
      {
       "output_type": "stream",
       "stream": "stdout",
       "text": [
        "fractal_1.txt\r\n",
        "0.111111111111\r\n",
        "0.444444444444\r\n",
        "0.444444444444\r\n",
        "0.333333333333\r\n",
        "0.222222222222\r\n",
        "0.333333333333\r\n",
        "fractal_2.txt\r\n",
        "0.111111111111\r\n",
        "0.444444444444\r\n",
        "0.444444444444\r\n",
        "0.444444444444\r\n",
        "0.222222222222\r\n",
        "0.444444444444\r\n",
        "fractal_3.txt\r\n",
        "0.111111111111\r\n",
        "0.555555555556\r\n",
        "0.333333333333\r\n",
        "0.444444444444\r\n",
        "0.333333333333\r\n",
        "0.333333333333\r\n"
       ]
      }
     ],
     "prompt_number": 33
    },
    {
     "cell_type": "markdown",
     "metadata": {},
     "source": [
      "What about standard input?"
     ]
    },
    {
     "cell_type": "code",
     "collapsed": false,
     "input": [
      "!ipython fracdens_5.py < fractal_1.txt"
     ],
     "language": "python",
     "metadata": {},
     "outputs": [
      {
       "output_type": "stream",
       "stream": "stdout",
       "text": [
        "stdin\r\n",
        "0.111111111111\r\n",
        "0.444444444444\r\n",
        "0.444444444444\r\n",
        "0.333333333333\r\n",
        "0.222222222222\r\n",
        "0.333333333333\r\n"
       ]
      }
     ],
     "prompt_number": 34
    },
    {
     "cell_type": "markdown",
     "metadata": {},
     "source": [
      "And finally let's try merging some files:"
     ]
    },
    {
     "cell_type": "code",
     "collapsed": false,
     "input": [
      "!ipython fracdens_5.py -m fractal_1.txt fractal_2.txt fractal_3.txt"
     ],
     "language": "python",
     "metadata": {},
     "outputs": [
      {
       "output_type": "stream",
       "stream": "stdout",
       "text": [
        "\u001b[0;31m---------------------------------------------------------------------------\u001b[0m\r\n",
        "\u001b[0;31mImportError\u001b[0m                               Traceback (most recent call last)\r\n",
        "\u001b[0;32m/Users/gwilson/anaconda/lib/python2.7/runpy.pyc\u001b[0m in \u001b[0;36mrun_module\u001b[0;34m(mod_name, init_globals, run_name, alter_sys)\u001b[0m\r\n",
        "\u001b[1;32m    168\u001b[0m        \u001b[0mReturns\u001b[0m \u001b[0mthe\u001b[0m \u001b[0mresulting\u001b[0m \u001b[0mtop\u001b[0m \u001b[0mlevel\u001b[0m \u001b[0mnamespace\u001b[0m \u001b[0mdictionary\u001b[0m\u001b[0;34m\u001b[0m\u001b[0m\r\n",
        "\u001b[1;32m    169\u001b[0m     \"\"\"\r\n",
        "\u001b[0;32m--> 170\u001b[0;31m     \u001b[0mmod_name\u001b[0m\u001b[0;34m,\u001b[0m \u001b[0mloader\u001b[0m\u001b[0;34m,\u001b[0m \u001b[0mcode\u001b[0m\u001b[0;34m,\u001b[0m \u001b[0mfname\u001b[0m \u001b[0;34m=\u001b[0m \u001b[0m_get_module_details\u001b[0m\u001b[0;34m(\u001b[0m\u001b[0mmod_name\u001b[0m\u001b[0;34m)\u001b[0m\u001b[0;34m\u001b[0m\u001b[0m\r\n",
        "\u001b[0m\u001b[1;32m    171\u001b[0m     \u001b[0;32mif\u001b[0m \u001b[0mrun_name\u001b[0m \u001b[0;32mis\u001b[0m \u001b[0mNone\u001b[0m\u001b[0;34m:\u001b[0m\u001b[0;34m\u001b[0m\u001b[0m\r\n",
        "\u001b[1;32m    172\u001b[0m         \u001b[0mrun_name\u001b[0m \u001b[0;34m=\u001b[0m \u001b[0mmod_name\u001b[0m\u001b[0;34m\u001b[0m\u001b[0m\r\n",
        "\r\n",
        "\u001b[0;32m/Users/gwilson/anaconda/lib/python2.7/runpy.pyc\u001b[0m in \u001b[0;36m_get_module_details\u001b[0;34m(mod_name)\u001b[0m\r\n",
        "\u001b[1;32m     99\u001b[0m \u001b[0;31m# Helper to get the loader, code and filename for a module\u001b[0m\u001b[0;34m\u001b[0m\u001b[0;34m\u001b[0m\u001b[0m\r\n",
        "\u001b[1;32m    100\u001b[0m \u001b[0;32mdef\u001b[0m \u001b[0m_get_module_details\u001b[0m\u001b[0;34m(\u001b[0m\u001b[0mmod_name\u001b[0m\u001b[0;34m)\u001b[0m\u001b[0;34m:\u001b[0m\u001b[0;34m\u001b[0m\u001b[0m\r\n",
        "\u001b[0;32m--> 101\u001b[0;31m     \u001b[0mloader\u001b[0m \u001b[0;34m=\u001b[0m \u001b[0mget_loader\u001b[0m\u001b[0;34m(\u001b[0m\u001b[0mmod_name\u001b[0m\u001b[0;34m)\u001b[0m\u001b[0;34m\u001b[0m\u001b[0m\r\n",
        "\u001b[0m\u001b[1;32m    102\u001b[0m     \u001b[0;32mif\u001b[0m \u001b[0mloader\u001b[0m \u001b[0;32mis\u001b[0m \u001b[0mNone\u001b[0m\u001b[0;34m:\u001b[0m\u001b[0;34m\u001b[0m\u001b[0m\r\n",
        "\u001b[1;32m    103\u001b[0m         \u001b[0;32mraise\u001b[0m \u001b[0mImportError\u001b[0m\u001b[0;34m(\u001b[0m\u001b[0;34m\"No module named %s\"\u001b[0m \u001b[0;34m%\u001b[0m \u001b[0mmod_name\u001b[0m\u001b[0;34m)\u001b[0m\u001b[0;34m\u001b[0m\u001b[0m\r\n",
        "\r\n",
        "\u001b[0;32m/Users/gwilson/anaconda/lib/python2.7/pkgutil.pyc\u001b[0m in \u001b[0;36mget_loader\u001b[0;34m(module_or_name)\u001b[0m\r\n",
        "\u001b[1;32m    462\u001b[0m     \u001b[0;32melse\u001b[0m\u001b[0;34m:\u001b[0m\u001b[0;34m\u001b[0m\u001b[0m\r\n",
        "\u001b[1;32m    463\u001b[0m         \u001b[0mfullname\u001b[0m \u001b[0;34m=\u001b[0m \u001b[0mmodule_or_name\u001b[0m\u001b[0;34m\u001b[0m\u001b[0m\r\n",
        "\u001b[0;32m--> 464\u001b[0;31m     \u001b[0;32mreturn\u001b[0m \u001b[0mfind_loader\u001b[0m\u001b[0;34m(\u001b[0m\u001b[0mfullname\u001b[0m\u001b[0;34m)\u001b[0m\u001b[0;34m\u001b[0m\u001b[0m\r\n",
        "\u001b[0m\u001b[1;32m    465\u001b[0m \u001b[0;34m\u001b[0m\u001b[0m\r\n",
        "\u001b[1;32m    466\u001b[0m \u001b[0;32mdef\u001b[0m \u001b[0mfind_loader\u001b[0m\u001b[0;34m(\u001b[0m\u001b[0mfullname\u001b[0m\u001b[0;34m)\u001b[0m\u001b[0;34m:\u001b[0m\u001b[0;34m\u001b[0m\u001b[0m\r\n",
        "\r\n",
        "\u001b[0;32m/Users/gwilson/anaconda/lib/python2.7/pkgutil.pyc\u001b[0m in \u001b[0;36mfind_loader\u001b[0;34m(fullname)\u001b[0m\r\n",
        "\u001b[1;32m    472\u001b[0m     \u001b[0mplatform\u001b[0m\u001b[0;34m-\u001b[0m\u001b[0mspecific\u001b[0m \u001b[0mspecial\u001b[0m \u001b[0;32mimport\u001b[0m \u001b[0mlocations\u001b[0m \u001b[0msuch\u001b[0m \u001b[0;32mas\u001b[0m \u001b[0mthe\u001b[0m \u001b[0mWindows\u001b[0m \u001b[0mregistry\u001b[0m\u001b[0;34m.\u001b[0m\u001b[0;34m\u001b[0m\u001b[0m\r\n",
        "\u001b[1;32m    473\u001b[0m     \"\"\"\r\n",
        "\u001b[0;32m--> 474\u001b[0;31m     \u001b[0;32mfor\u001b[0m \u001b[0mimporter\u001b[0m \u001b[0;32min\u001b[0m \u001b[0miter_importers\u001b[0m\u001b[0;34m(\u001b[0m\u001b[0mfullname\u001b[0m\u001b[0;34m)\u001b[0m\u001b[0;34m:\u001b[0m\u001b[0;34m\u001b[0m\u001b[0m\r\n",
        "\u001b[0m\u001b[1;32m    475\u001b[0m         \u001b[0mloader\u001b[0m \u001b[0;34m=\u001b[0m \u001b[0mimporter\u001b[0m\u001b[0;34m.\u001b[0m\u001b[0mfind_module\u001b[0m\u001b[0;34m(\u001b[0m\u001b[0mfullname\u001b[0m\u001b[0;34m)\u001b[0m\u001b[0;34m\u001b[0m\u001b[0m\r\n",
        "\u001b[1;32m    476\u001b[0m         \u001b[0;32mif\u001b[0m \u001b[0mloader\u001b[0m \u001b[0;32mis\u001b[0m \u001b[0;32mnot\u001b[0m \u001b[0mNone\u001b[0m\u001b[0;34m:\u001b[0m\u001b[0;34m\u001b[0m\u001b[0m\r\n",
        "\r\n",
        "\u001b[0;32m/Users/gwilson/anaconda/lib/python2.7/pkgutil.pyc\u001b[0m in \u001b[0;36miter_importers\u001b[0;34m(fullname)\u001b[0m\r\n",
        "\u001b[1;32m    428\u001b[0m         \u001b[0mpkg\u001b[0m \u001b[0;34m=\u001b[0m \u001b[0;34m'.'\u001b[0m\u001b[0;34m.\u001b[0m\u001b[0mjoin\u001b[0m\u001b[0;34m(\u001b[0m\u001b[0mfullname\u001b[0m\u001b[0;34m.\u001b[0m\u001b[0msplit\u001b[0m\u001b[0;34m(\u001b[0m\u001b[0;34m'.'\u001b[0m\u001b[0;34m)\u001b[0m\u001b[0;34m[\u001b[0m\u001b[0;34m:\u001b[0m\u001b[0;34m-\u001b[0m\u001b[0;36m1\u001b[0m\u001b[0;34m]\u001b[0m\u001b[0;34m)\u001b[0m\u001b[0;34m\u001b[0m\u001b[0m\r\n",
        "\u001b[1;32m    429\u001b[0m         \u001b[0;32mif\u001b[0m \u001b[0mpkg\u001b[0m \u001b[0;32mnot\u001b[0m \u001b[0;32min\u001b[0m \u001b[0msys\u001b[0m\u001b[0;34m.\u001b[0m\u001b[0mmodules\u001b[0m\u001b[0;34m:\u001b[0m\u001b[0;34m\u001b[0m\u001b[0m\r\n",
        "\u001b[0;32m--> 430\u001b[0;31m             \u001b[0m__import__\u001b[0m\u001b[0;34m(\u001b[0m\u001b[0mpkg\u001b[0m\u001b[0;34m)\u001b[0m\u001b[0;34m\u001b[0m\u001b[0m\r\n",
        "\u001b[0m\u001b[1;32m    431\u001b[0m         \u001b[0mpath\u001b[0m \u001b[0;34m=\u001b[0m \u001b[0mgetattr\u001b[0m\u001b[0;34m(\u001b[0m\u001b[0msys\u001b[0m\u001b[0;34m.\u001b[0m\u001b[0mmodules\u001b[0m\u001b[0;34m[\u001b[0m\u001b[0mpkg\u001b[0m\u001b[0;34m]\u001b[0m\u001b[0;34m,\u001b[0m \u001b[0;34m'__path__'\u001b[0m\u001b[0;34m,\u001b[0m \u001b[0mNone\u001b[0m\u001b[0;34m)\u001b[0m \u001b[0;32mor\u001b[0m \u001b[0;34m[\u001b[0m\u001b[0;34m]\u001b[0m\u001b[0;34m\u001b[0m\u001b[0m\r\n",
        "\u001b[1;32m    432\u001b[0m     \u001b[0;32melse\u001b[0m\u001b[0;34m:\u001b[0m\u001b[0;34m\u001b[0m\u001b[0m\r\n",
        "\r\n",
        "\u001b[0;31mImportError\u001b[0m: No module named fractal_1\r\n",
        "WARNING: Unknown failure executing module: <fractal_1.txt>\r\n"
       ]
      }
     ],
     "prompt_number": 36
    },
    {
     "cell_type": "markdown",
     "metadata": {},
     "source": [
      "Oops: it appears that `ipython` is trying to execute `fractal_1.txt`.\n",
      "After a bit of poking around,\n",
      "it turns out that `-m` is a flag for `ipython` itself;\n",
      "what we need to do is use `--` to separate `ipython`'s arguments from our own:"
     ]
    },
    {
     "cell_type": "code",
     "collapsed": false,
     "input": [
      "!ipython fracdens_5.py -- -m fractal_1.txt fractal_2.txt fractal_3.txt"
     ],
     "language": "python",
     "metadata": {},
     "outputs": [
      {
       "output_type": "stream",
       "stream": "stdout",
       "text": [
        "all\r\n",
        "0.111111111111\r\n",
        "0.481481481481\r\n",
        "0.407407407407\r\n",
        "0.407407407407\r\n",
        "0.259259259259\r\n",
        "0.37037037037\r\n"
       ]
      }
     ],
     "prompt_number": 37
    },
    {
     "cell_type": "heading",
     "level": 2,
     "metadata": {},
     "source": [
      "Cleaning Up"
     ]
    },
    {
     "cell_type": "markdown",
     "metadata": {},
     "source": [
      "We're not quite done yet:\n",
      "if we want this program to be useful,\n",
      "it needs to tell us if and when things go wrong.\n",
      "What happens if we try to read a data file that doesn't exist?\n",
      "Or if we try to merge data from two or more files that have different widths?\n",
      "If the first happens,\n",
      "the call to `open` will raise an `IOError` automatically,\n",
      "but we need to check for the second ourselves\n",
      "and decide how to report it.\n",
      "\n",
      "To keep things simple,\n",
      "we'll modify `process` to check the widths of the second and subsequent data files\n",
      "to make sure they're the same as the width of the first input file:"
     ]
    },
    {
     "cell_type": "code",
     "collapsed": false,
     "input": [
      "def process(name, filenames):\n",
      "    if len(filenames) == 0:\n",
      "        number = 1\n",
      "        width, counts = count_cells(sys.stdin)\n",
      "    else:\n",
      "        number = len(filenames)\n",
      "        with open(filenames[0], 'r') as source:\n",
      "            width, counts = count_cells(source)\n",
      "        for f in filenames[1:]:\n",
      "            with open(f, 'r') as source:\n",
      "                new_width, new_counts = count_cells(source)\n",
      "                if new_width != width:\n",
      "                    template = 'width of {0} is {1}, but width of {2} was {3}'\n",
      "                    message = template.format(f, new_width, filenames[0], width)\n",
      "                    raise ValueError(message)\n",
      "            counts = combine(counts, new_counts)\n",
      "    report(name, counts, number * width)"
     ],
     "language": "python",
     "metadata": {},
     "outputs": [],
     "prompt_number": 38
    },
    {
     "cell_type": "markdown",
     "metadata": {},
     "source": [
      "The addition is on lines 12-15 of the function above.\n",
      "It doesn't actually print a message or halt the program:\n",
      "instead,\n",
      "in keeping with the \"throw low, catch high\" rule,\n",
      "it just raises an exception.\n",
      "All of the error handling is done in our updated `main`:"
     ]
    },
    {
     "cell_type": "code",
     "collapsed": false,
     "input": [
      "def main():\n",
      "    script, flags, filenames = handle_args(sys.argv)\n",
      "    try:\n",
      "        if flags.merge:\n",
      "            process('all', filenames)\n",
      "        elif not filenames:\n",
      "            process('stdin', [])\n",
      "        else:\n",
      "            for f in filenames:\n",
      "                process(f, [f])\n",
      "    except IOError as e:\n",
      "        sys.stderr.write(str(e) + '\\n')\n",
      "        sys.exit(1)\n",
      "    except ValueError as e:\n",
      "        sys.stderr.write(str(e) + '\\n')\n",
      "        sys.exit(1)"
     ],
     "language": "python",
     "metadata": {},
     "outputs": [],
     "prompt_number": 39
    },
    {
     "cell_type": "heading",
     "level": 2,
     "metadata": {},
     "source": [
      "Key Points"
     ]
    },
    {
     "cell_type": "markdown",
     "metadata": {},
     "source": [
      "FIXME"
     ]
    }
   ],
   "metadata": {}
  }
 ]
}